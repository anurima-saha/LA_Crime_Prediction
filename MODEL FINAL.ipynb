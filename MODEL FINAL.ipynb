{
 "cells": [
  {
   "cell_type": "code",
   "execution_count": 1,
   "id": "e48f6c70",
   "metadata": {},
   "outputs": [],
   "source": [
    "import pandas as pd\n",
    "import numpy as np\n",
    "import seaborn as sns\n",
    "%matplotlib inline\n",
    "import matplotlib.pyplot as plt"
   ]
  },
  {
   "cell_type": "code",
   "execution_count": 2,
   "id": "f918ecb1",
   "metadata": {},
   "outputs": [],
   "source": [
    "from sklearn.preprocessing import OneHotEncoder\n",
    "from sklearn.model_selection import train_test_split"
   ]
  },
  {
   "cell_type": "code",
   "execution_count": 3,
   "id": "c13c13a0",
   "metadata": {},
   "outputs": [
    {
     "data": {
      "text/html": [
       "<div>\n",
       "<style scoped>\n",
       "    .dataframe tbody tr th:only-of-type {\n",
       "        vertical-align: middle;\n",
       "    }\n",
       "\n",
       "    .dataframe tbody tr th {\n",
       "        vertical-align: top;\n",
       "    }\n",
       "\n",
       "    .dataframe thead th {\n",
       "        text-align: right;\n",
       "    }\n",
       "</style>\n",
       "<table border=\"1\" class=\"dataframe\">\n",
       "  <thead>\n",
       "    <tr style=\"text-align: right;\">\n",
       "      <th></th>\n",
       "      <th>TIME OCC</th>\n",
       "      <th>AREA</th>\n",
       "      <th>Part 1-2</th>\n",
       "      <th>LAT</th>\n",
       "      <th>LON</th>\n",
       "      <th>Lag</th>\n",
       "      <th>Month of Occurance</th>\n",
       "      <th>Date of Occurance</th>\n",
       "      <th>GROUP</th>\n",
       "      <th>PREMSE</th>\n",
       "      <th>Age</th>\n",
       "      <th>Gender</th>\n",
       "      <th>Race</th>\n",
       "      <th>WEAPON</th>\n",
       "      <th>Target</th>\n",
       "    </tr>\n",
       "  </thead>\n",
       "  <tbody>\n",
       "    <tr>\n",
       "      <th>0</th>\n",
       "      <td>13</td>\n",
       "      <td>4</td>\n",
       "      <td>1</td>\n",
       "      <td>34.0201</td>\n",
       "      <td>-118.1935</td>\n",
       "      <td>4</td>\n",
       "      <td>6</td>\n",
       "      <td>20</td>\n",
       "      <td>GRAND THEFT</td>\n",
       "      <td>STREET</td>\n",
       "      <td>31.0</td>\n",
       "      <td>X</td>\n",
       "      <td>X</td>\n",
       "      <td>NOT USED</td>\n",
       "      <td>0</td>\n",
       "    </tr>\n",
       "    <tr>\n",
       "      <th>1</th>\n",
       "      <td>23</td>\n",
       "      <td>14</td>\n",
       "      <td>1</td>\n",
       "      <td>33.9860</td>\n",
       "      <td>-118.4478</td>\n",
       "      <td>139</td>\n",
       "      <td>9</td>\n",
       "      <td>13</td>\n",
       "      <td>GRAND THEFT</td>\n",
       "      <td>STREET</td>\n",
       "      <td>31.0</td>\n",
       "      <td>X</td>\n",
       "      <td>X</td>\n",
       "      <td>NOT USED</td>\n",
       "      <td>0</td>\n",
       "    </tr>\n",
       "    <tr>\n",
       "      <th>2</th>\n",
       "      <td>20</td>\n",
       "      <td>9</td>\n",
       "      <td>2</td>\n",
       "      <td>34.1794</td>\n",
       "      <td>-118.4574</td>\n",
       "      <td>0</td>\n",
       "      <td>6</td>\n",
       "      <td>23</td>\n",
       "      <td>OTHERS</td>\n",
       "      <td>STREET</td>\n",
       "      <td>31.0</td>\n",
       "      <td>M</td>\n",
       "      <td>O</td>\n",
       "      <td>NOT USED</td>\n",
       "      <td>0</td>\n",
       "    </tr>\n",
       "    <tr>\n",
       "      <th>3</th>\n",
       "      <td>22</td>\n",
       "      <td>19</td>\n",
       "      <td>1</td>\n",
       "      <td>34.2160</td>\n",
       "      <td>-118.4678</td>\n",
       "      <td>1</td>\n",
       "      <td>8</td>\n",
       "      <td>9</td>\n",
       "      <td>GRAND THEFT</td>\n",
       "      <td>STREET</td>\n",
       "      <td>31.0</td>\n",
       "      <td>X</td>\n",
       "      <td>X</td>\n",
       "      <td>NOT USED</td>\n",
       "      <td>0</td>\n",
       "    </tr>\n",
       "    <tr>\n",
       "      <th>4</th>\n",
       "      <td>8</td>\n",
       "      <td>20</td>\n",
       "      <td>1</td>\n",
       "      <td>34.0591</td>\n",
       "      <td>-118.3205</td>\n",
       "      <td>1</td>\n",
       "      <td>12</td>\n",
       "      <td>8</td>\n",
       "      <td>GRAND THEFT</td>\n",
       "      <td>STREET</td>\n",
       "      <td>31.0</td>\n",
       "      <td>X</td>\n",
       "      <td>X</td>\n",
       "      <td>NOT USED</td>\n",
       "      <td>0</td>\n",
       "    </tr>\n",
       "  </tbody>\n",
       "</table>\n",
       "</div>"
      ],
      "text/plain": [
       "   TIME OCC  AREA  Part 1-2      LAT       LON  Lag  Month of Occurance  \\\n",
       "0        13     4         1  34.0201 -118.1935    4                   6   \n",
       "1        23    14         1  33.9860 -118.4478  139                   9   \n",
       "2        20     9         2  34.1794 -118.4574    0                   6   \n",
       "3        22    19         1  34.2160 -118.4678    1                   8   \n",
       "4         8    20         1  34.0591 -118.3205    1                  12   \n",
       "\n",
       "   Date of Occurance        GROUP  PREMSE   Age Gender Race    WEAPON  Target  \n",
       "0                 20  GRAND THEFT  STREET  31.0      X    X  NOT USED       0  \n",
       "1                 13  GRAND THEFT  STREET  31.0      X    X  NOT USED       0  \n",
       "2                 23       OTHERS  STREET  31.0      M    O  NOT USED       0  \n",
       "3                  9  GRAND THEFT  STREET  31.0      X    X  NOT USED       0  \n",
       "4                  8  GRAND THEFT  STREET  31.0      X    X  NOT USED       0  "
      ]
     },
     "execution_count": 3,
     "metadata": {},
     "output_type": "execute_result"
    }
   ],
   "source": [
    "df = pd.read_pickle(\"Cleaned Data2.pkl\")\n",
    "df.head()"
   ]
  },
  {
   "cell_type": "code",
   "execution_count": 4,
   "id": "630324b3",
   "metadata": {},
   "outputs": [],
   "source": [
    "df.drop([\"LAT\",\"LON\"],axis=1,inplace = True)"
   ]
  },
  {
   "cell_type": "code",
   "execution_count": 5,
   "id": "c3343c1f",
   "metadata": {},
   "outputs": [
    {
     "data": {
      "text/html": [
       "<div>\n",
       "<style scoped>\n",
       "    .dataframe tbody tr th:only-of-type {\n",
       "        vertical-align: middle;\n",
       "    }\n",
       "\n",
       "    .dataframe tbody tr th {\n",
       "        vertical-align: top;\n",
       "    }\n",
       "\n",
       "    .dataframe thead th {\n",
       "        text-align: right;\n",
       "    }\n",
       "</style>\n",
       "<table border=\"1\" class=\"dataframe\">\n",
       "  <thead>\n",
       "    <tr style=\"text-align: right;\">\n",
       "      <th></th>\n",
       "      <th>count</th>\n",
       "      <th>mean</th>\n",
       "      <th>std</th>\n",
       "      <th>min</th>\n",
       "      <th>25%</th>\n",
       "      <th>50%</th>\n",
       "      <th>75%</th>\n",
       "      <th>max</th>\n",
       "    </tr>\n",
       "  </thead>\n",
       "  <tbody>\n",
       "    <tr>\n",
       "      <th>TIME OCC</th>\n",
       "      <td>945108.0</td>\n",
       "      <td>13.202270</td>\n",
       "      <td>6.534191</td>\n",
       "      <td>0.0</td>\n",
       "      <td>9.0</td>\n",
       "      <td>14.0</td>\n",
       "      <td>19.0</td>\n",
       "      <td>23.0</td>\n",
       "    </tr>\n",
       "    <tr>\n",
       "      <th>AREA</th>\n",
       "      <td>945108.0</td>\n",
       "      <td>10.728422</td>\n",
       "      <td>6.092555</td>\n",
       "      <td>1.0</td>\n",
       "      <td>6.0</td>\n",
       "      <td>11.0</td>\n",
       "      <td>16.0</td>\n",
       "      <td>21.0</td>\n",
       "    </tr>\n",
       "    <tr>\n",
       "      <th>Part 1-2</th>\n",
       "      <td>945108.0</td>\n",
       "      <td>1.416614</td>\n",
       "      <td>0.492998</td>\n",
       "      <td>1.0</td>\n",
       "      <td>1.0</td>\n",
       "      <td>1.0</td>\n",
       "      <td>2.0</td>\n",
       "      <td>2.0</td>\n",
       "    </tr>\n",
       "    <tr>\n",
       "      <th>Lag</th>\n",
       "      <td>945108.0</td>\n",
       "      <td>10.809770</td>\n",
       "      <td>60.836676</td>\n",
       "      <td>0.0</td>\n",
       "      <td>0.0</td>\n",
       "      <td>1.0</td>\n",
       "      <td>2.0</td>\n",
       "      <td>1584.0</td>\n",
       "    </tr>\n",
       "    <tr>\n",
       "      <th>Month of Occurance</th>\n",
       "      <td>945108.0</td>\n",
       "      <td>6.531301</td>\n",
       "      <td>3.307512</td>\n",
       "      <td>1.0</td>\n",
       "      <td>4.0</td>\n",
       "      <td>7.0</td>\n",
       "      <td>9.0</td>\n",
       "      <td>12.0</td>\n",
       "    </tr>\n",
       "    <tr>\n",
       "      <th>Date of Occurance</th>\n",
       "      <td>945108.0</td>\n",
       "      <td>15.331808</td>\n",
       "      <td>8.959699</td>\n",
       "      <td>1.0</td>\n",
       "      <td>7.0</td>\n",
       "      <td>15.0</td>\n",
       "      <td>23.0</td>\n",
       "      <td>31.0</td>\n",
       "    </tr>\n",
       "    <tr>\n",
       "      <th>Age</th>\n",
       "      <td>945108.0</td>\n",
       "      <td>37.516399</td>\n",
       "      <td>14.139363</td>\n",
       "      <td>2.0</td>\n",
       "      <td>30.0</td>\n",
       "      <td>31.0</td>\n",
       "      <td>45.0</td>\n",
       "      <td>99.0</td>\n",
       "    </tr>\n",
       "    <tr>\n",
       "      <th>Target</th>\n",
       "      <td>945108.0</td>\n",
       "      <td>0.204948</td>\n",
       "      <td>0.403664</td>\n",
       "      <td>0.0</td>\n",
       "      <td>0.0</td>\n",
       "      <td>0.0</td>\n",
       "      <td>0.0</td>\n",
       "      <td>1.0</td>\n",
       "    </tr>\n",
       "  </tbody>\n",
       "</table>\n",
       "</div>"
      ],
      "text/plain": [
       "                       count       mean        std  min   25%   50%   75%  \\\n",
       "TIME OCC            945108.0  13.202270   6.534191  0.0   9.0  14.0  19.0   \n",
       "AREA                945108.0  10.728422   6.092555  1.0   6.0  11.0  16.0   \n",
       "Part 1-2            945108.0   1.416614   0.492998  1.0   1.0   1.0   2.0   \n",
       "Lag                 945108.0  10.809770  60.836676  0.0   0.0   1.0   2.0   \n",
       "Month of Occurance  945108.0   6.531301   3.307512  1.0   4.0   7.0   9.0   \n",
       "Date of Occurance   945108.0  15.331808   8.959699  1.0   7.0  15.0  23.0   \n",
       "Age                 945108.0  37.516399  14.139363  2.0  30.0  31.0  45.0   \n",
       "Target              945108.0   0.204948   0.403664  0.0   0.0   0.0   0.0   \n",
       "\n",
       "                       max  \n",
       "TIME OCC              23.0  \n",
       "AREA                  21.0  \n",
       "Part 1-2               2.0  \n",
       "Lag                 1584.0  \n",
       "Month of Occurance    12.0  \n",
       "Date of Occurance     31.0  \n",
       "Age                   99.0  \n",
       "Target                 1.0  "
      ]
     },
     "execution_count": 5,
     "metadata": {},
     "output_type": "execute_result"
    }
   ],
   "source": [
    "df.describe().T"
   ]
  },
  {
   "cell_type": "code",
   "execution_count": null,
   "id": "9dcda5ab",
   "metadata": {},
   "outputs": [],
   "source": [
    "my_dict = {\n",
    "    'Time of Occurance': ['Morning','Afternoon','Evening' , 'Night'],\n",
    "    'AREA': ['Central','Rampart','Southwest','Hollenbeck','Harbor','Hollywood','Wilshire','West LA','Van Nuys','West Valley',\n",
    "             'Northeast','77th Street','Newton','Pacific','N Hollywood','Foothill','Devonshire','Southeast','Mission','Olympic',\n",
    "             'Topanga'],\n",
    "    'Crime Type': ['GRAND THEFT','ASSULT','THEFT','VANDALISM','IDENTITY THEFT','SERIOUS ASSULT','THREATS','WEAPON ASSULT',\n",
    "                   'TRESPASSING','VIOLATION','OTHERS','SEX OFFENDERS','CRIMES AGAINST CHILDREN','HOMICIDE','KIDNAPPING',\n",
    "                   'FINANCIAL CRIME'],\n",
    "    'Premise' : ['STREET','DOMESTIC','PARKING/GARAGE','BUSINESS AREA','VEHICLE','OTHER','PUBLIC PLACE','ENTERTAINMENT ZONE',\n",
    "                'BANK','EDUCATIONAL AREA','MEDICAL CENTERS','DOMESTIC TEMPORARY','ROADS'],\n",
    "    'Weapons Used': ['BODILY FORCE','UNKNOWN WEAPON','NOT USED','FIREARM','SHARP OBJECTS','OTHER','BLUNT OBJECT'],\n",
    "    'Date of Incidence' : \n",
    "    'Date Reported' :\n",
    "    'Vicitim Age' :\n",
    "    'Victim Sex' : ['M','F','X']\n",
    "    'Vicitim Race' : ['Hispanic','Asian','White','Black','Other US','Other Race','Do not Wish to disclose/Not Reported']  \n",
    "\n",
    "}"
   ]
  },
  {
   "cell_type": "code",
   "execution_count": 6,
   "id": "f029e1fa",
   "metadata": {},
   "outputs": [
    {
     "name": "stdout",
     "output_type": "stream",
     "text": [
      "<class 'pandas.core.frame.DataFrame'>\n",
      "RangeIndex: 945108 entries, 0 to 945107\n",
      "Data columns (total 13 columns):\n",
      " #   Column              Non-Null Count   Dtype  \n",
      "---  ------              --------------   -----  \n",
      " 0   TIME OCC            945108 non-null  int32  \n",
      " 1   AREA                945108 non-null  int64  \n",
      " 2   Part 1-2            945108 non-null  int64  \n",
      " 3   Lag                 945108 non-null  int64  \n",
      " 4   Month of Occurance  945108 non-null  int32  \n",
      " 5   Date of Occurance   945108 non-null  int32  \n",
      " 6   GROUP               945108 non-null  object \n",
      " 7   PREMSE              945108 non-null  object \n",
      " 8   Age                 945108 non-null  float64\n",
      " 9   Gender              945108 non-null  object \n",
      " 10  Race                945108 non-null  object \n",
      " 11  WEAPON              945108 non-null  object \n",
      " 12  Target              945108 non-null  int32  \n",
      "dtypes: float64(1), int32(4), int64(3), object(5)\n",
      "memory usage: 79.3+ MB\n"
     ]
    }
   ],
   "source": [
    "df.info()"
   ]
  },
  {
   "cell_type": "code",
   "execution_count": 7,
   "id": "1ce8ba72",
   "metadata": {},
   "outputs": [
    {
     "data": {
      "text/html": [
       "<div>\n",
       "<style scoped>\n",
       "    .dataframe tbody tr th:only-of-type {\n",
       "        vertical-align: middle;\n",
       "    }\n",
       "\n",
       "    .dataframe tbody tr th {\n",
       "        vertical-align: top;\n",
       "    }\n",
       "\n",
       "    .dataframe thead th {\n",
       "        text-align: right;\n",
       "    }\n",
       "</style>\n",
       "<table border=\"1\" class=\"dataframe\">\n",
       "  <thead>\n",
       "    <tr style=\"text-align: right;\">\n",
       "      <th></th>\n",
       "      <th>TIME OCC</th>\n",
       "      <th>AREA</th>\n",
       "      <th>Part 1-2</th>\n",
       "      <th>Lag</th>\n",
       "      <th>Month of Occurance</th>\n",
       "      <th>Date of Occurance</th>\n",
       "      <th>GROUP</th>\n",
       "      <th>PREMSE</th>\n",
       "      <th>Age</th>\n",
       "      <th>Gender</th>\n",
       "      <th>Race</th>\n",
       "      <th>WEAPON</th>\n",
       "      <th>Target</th>\n",
       "      <th>TIME CAT</th>\n",
       "    </tr>\n",
       "  </thead>\n",
       "  <tbody>\n",
       "    <tr>\n",
       "      <th>0</th>\n",
       "      <td>13</td>\n",
       "      <td>4</td>\n",
       "      <td>1</td>\n",
       "      <td>4</td>\n",
       "      <td>6</td>\n",
       "      <td>20</td>\n",
       "      <td>GRAND THEFT</td>\n",
       "      <td>STREET</td>\n",
       "      <td>31.0</td>\n",
       "      <td>X</td>\n",
       "      <td>X</td>\n",
       "      <td>NOT USED</td>\n",
       "      <td>0</td>\n",
       "      <td>Missing</td>\n",
       "    </tr>\n",
       "    <tr>\n",
       "      <th>1</th>\n",
       "      <td>23</td>\n",
       "      <td>14</td>\n",
       "      <td>1</td>\n",
       "      <td>139</td>\n",
       "      <td>9</td>\n",
       "      <td>13</td>\n",
       "      <td>GRAND THEFT</td>\n",
       "      <td>STREET</td>\n",
       "      <td>31.0</td>\n",
       "      <td>X</td>\n",
       "      <td>X</td>\n",
       "      <td>NOT USED</td>\n",
       "      <td>0</td>\n",
       "      <td>Missing</td>\n",
       "    </tr>\n",
       "    <tr>\n",
       "      <th>2</th>\n",
       "      <td>20</td>\n",
       "      <td>9</td>\n",
       "      <td>2</td>\n",
       "      <td>0</td>\n",
       "      <td>6</td>\n",
       "      <td>23</td>\n",
       "      <td>OTHERS</td>\n",
       "      <td>STREET</td>\n",
       "      <td>31.0</td>\n",
       "      <td>M</td>\n",
       "      <td>O</td>\n",
       "      <td>NOT USED</td>\n",
       "      <td>0</td>\n",
       "      <td>Missing</td>\n",
       "    </tr>\n",
       "    <tr>\n",
       "      <th>3</th>\n",
       "      <td>22</td>\n",
       "      <td>19</td>\n",
       "      <td>1</td>\n",
       "      <td>1</td>\n",
       "      <td>8</td>\n",
       "      <td>9</td>\n",
       "      <td>GRAND THEFT</td>\n",
       "      <td>STREET</td>\n",
       "      <td>31.0</td>\n",
       "      <td>X</td>\n",
       "      <td>X</td>\n",
       "      <td>NOT USED</td>\n",
       "      <td>0</td>\n",
       "      <td>Missing</td>\n",
       "    </tr>\n",
       "    <tr>\n",
       "      <th>4</th>\n",
       "      <td>8</td>\n",
       "      <td>20</td>\n",
       "      <td>1</td>\n",
       "      <td>1</td>\n",
       "      <td>12</td>\n",
       "      <td>8</td>\n",
       "      <td>GRAND THEFT</td>\n",
       "      <td>STREET</td>\n",
       "      <td>31.0</td>\n",
       "      <td>X</td>\n",
       "      <td>X</td>\n",
       "      <td>NOT USED</td>\n",
       "      <td>0</td>\n",
       "      <td>Morning</td>\n",
       "    </tr>\n",
       "  </tbody>\n",
       "</table>\n",
       "</div>"
      ],
      "text/plain": [
       "   TIME OCC  AREA  Part 1-2  Lag  Month of Occurance  Date of Occurance  \\\n",
       "0        13     4         1    4                   6                 20   \n",
       "1        23    14         1  139                   9                 13   \n",
       "2        20     9         2    0                   6                 23   \n",
       "3        22    19         1    1                   8                  9   \n",
       "4         8    20         1    1                  12                  8   \n",
       "\n",
       "         GROUP  PREMSE   Age Gender Race    WEAPON  Target TIME CAT  \n",
       "0  GRAND THEFT  STREET  31.0      X    X  NOT USED       0  Missing  \n",
       "1  GRAND THEFT  STREET  31.0      X    X  NOT USED       0  Missing  \n",
       "2       OTHERS  STREET  31.0      M    O  NOT USED       0  Missing  \n",
       "3  GRAND THEFT  STREET  31.0      X    X  NOT USED       0  Missing  \n",
       "4  GRAND THEFT  STREET  31.0      X    X  NOT USED       0  Morning  "
      ]
     },
     "execution_count": 7,
     "metadata": {},
     "output_type": "execute_result"
    }
   ],
   "source": [
    "df['TIME CAT'] = np.where(df['TIME OCC'].isin(range(0,6)),\"Night\",\n",
    "                         np.where(df['TIME OCC'].isin(range(6,12)),\"Morning\",\n",
    "                                 np.where(df['TIME OCC'].isin(range(12,6)),\"Afternoon\",\n",
    "                                         np.where(df['TIME OCC'].isin(range(0,7)),\"Evening\",\"Missing\"))))\n",
    "df.head()"
   ]
  },
  {
   "cell_type": "code",
   "execution_count": 8,
   "id": "d083ae13",
   "metadata": {},
   "outputs": [
    {
     "data": {
      "text/plain": [
       "TIME CAT\n",
       "Missing    602453\n",
       "Morning    196369\n",
       "Night      146286\n",
       "Name: count, dtype: int64"
      ]
     },
     "execution_count": 8,
     "metadata": {},
     "output_type": "execute_result"
    }
   ],
   "source": [
    "df['TIME CAT'].value_counts(dropna = False)"
   ]
  },
  {
   "cell_type": "code",
   "execution_count": 9,
   "id": "f32d8290",
   "metadata": {
    "scrolled": true
   },
   "outputs": [
    {
     "data": {
      "text/html": [
       "<div>\n",
       "<style scoped>\n",
       "    .dataframe tbody tr th:only-of-type {\n",
       "        vertical-align: middle;\n",
       "    }\n",
       "\n",
       "    .dataframe tbody tr th {\n",
       "        vertical-align: top;\n",
       "    }\n",
       "\n",
       "    .dataframe thead th {\n",
       "        text-align: right;\n",
       "    }\n",
       "</style>\n",
       "<table border=\"1\" class=\"dataframe\">\n",
       "  <thead>\n",
       "    <tr style=\"text-align: right;\">\n",
       "      <th></th>\n",
       "      <th>AREA</th>\n",
       "      <th>Part 1-2</th>\n",
       "      <th>Lag</th>\n",
       "      <th>Month of Occurance</th>\n",
       "      <th>Date of Occurance</th>\n",
       "      <th>GROUP</th>\n",
       "      <th>PREMSE</th>\n",
       "      <th>Age</th>\n",
       "      <th>Gender</th>\n",
       "      <th>Race</th>\n",
       "      <th>WEAPON</th>\n",
       "      <th>Target</th>\n",
       "      <th>TIME CAT</th>\n",
       "    </tr>\n",
       "  </thead>\n",
       "  <tbody>\n",
       "    <tr>\n",
       "      <th>0</th>\n",
       "      <td>4</td>\n",
       "      <td>1</td>\n",
       "      <td>4</td>\n",
       "      <td>6</td>\n",
       "      <td>20</td>\n",
       "      <td>GRAND THEFT</td>\n",
       "      <td>STREET</td>\n",
       "      <td>31.0</td>\n",
       "      <td>X</td>\n",
       "      <td>X</td>\n",
       "      <td>NOT USED</td>\n",
       "      <td>0</td>\n",
       "      <td>Missing</td>\n",
       "    </tr>\n",
       "    <tr>\n",
       "      <th>1</th>\n",
       "      <td>14</td>\n",
       "      <td>1</td>\n",
       "      <td>139</td>\n",
       "      <td>9</td>\n",
       "      <td>13</td>\n",
       "      <td>GRAND THEFT</td>\n",
       "      <td>STREET</td>\n",
       "      <td>31.0</td>\n",
       "      <td>X</td>\n",
       "      <td>X</td>\n",
       "      <td>NOT USED</td>\n",
       "      <td>0</td>\n",
       "      <td>Missing</td>\n",
       "    </tr>\n",
       "    <tr>\n",
       "      <th>2</th>\n",
       "      <td>9</td>\n",
       "      <td>2</td>\n",
       "      <td>0</td>\n",
       "      <td>6</td>\n",
       "      <td>23</td>\n",
       "      <td>OTHERS</td>\n",
       "      <td>STREET</td>\n",
       "      <td>31.0</td>\n",
       "      <td>M</td>\n",
       "      <td>O</td>\n",
       "      <td>NOT USED</td>\n",
       "      <td>0</td>\n",
       "      <td>Missing</td>\n",
       "    </tr>\n",
       "    <tr>\n",
       "      <th>3</th>\n",
       "      <td>19</td>\n",
       "      <td>1</td>\n",
       "      <td>1</td>\n",
       "      <td>8</td>\n",
       "      <td>9</td>\n",
       "      <td>GRAND THEFT</td>\n",
       "      <td>STREET</td>\n",
       "      <td>31.0</td>\n",
       "      <td>X</td>\n",
       "      <td>X</td>\n",
       "      <td>NOT USED</td>\n",
       "      <td>0</td>\n",
       "      <td>Missing</td>\n",
       "    </tr>\n",
       "    <tr>\n",
       "      <th>4</th>\n",
       "      <td>20</td>\n",
       "      <td>1</td>\n",
       "      <td>1</td>\n",
       "      <td>12</td>\n",
       "      <td>8</td>\n",
       "      <td>GRAND THEFT</td>\n",
       "      <td>STREET</td>\n",
       "      <td>31.0</td>\n",
       "      <td>X</td>\n",
       "      <td>X</td>\n",
       "      <td>NOT USED</td>\n",
       "      <td>0</td>\n",
       "      <td>Morning</td>\n",
       "    </tr>\n",
       "  </tbody>\n",
       "</table>\n",
       "</div>"
      ],
      "text/plain": [
       "   AREA  Part 1-2  Lag  Month of Occurance  Date of Occurance        GROUP  \\\n",
       "0     4         1    4                   6                 20  GRAND THEFT   \n",
       "1    14         1  139                   9                 13  GRAND THEFT   \n",
       "2     9         2    0                   6                 23       OTHERS   \n",
       "3    19         1    1                   8                  9  GRAND THEFT   \n",
       "4    20         1    1                  12                  8  GRAND THEFT   \n",
       "\n",
       "   PREMSE   Age Gender Race    WEAPON  Target TIME CAT  \n",
       "0  STREET  31.0      X    X  NOT USED       0  Missing  \n",
       "1  STREET  31.0      X    X  NOT USED       0  Missing  \n",
       "2  STREET  31.0      M    O  NOT USED       0  Missing  \n",
       "3  STREET  31.0      X    X  NOT USED       0  Missing  \n",
       "4  STREET  31.0      X    X  NOT USED       0  Morning  "
      ]
     },
     "execution_count": 9,
     "metadata": {},
     "output_type": "execute_result"
    }
   ],
   "source": [
    "df.drop(['TIME OCC'],axis=1,inplace= True)\n",
    "df.head()"
   ]
  },
  {
   "cell_type": "code",
   "execution_count": 10,
   "id": "471ca211",
   "metadata": {},
   "outputs": [],
   "source": [
    "df['Lag_in_Report'] = np.where(df['Lag'].isin([0,1]),0,\n",
    "                              np.where(df['Lag'].isin(range(2,8)),1,\n",
    "                                       np.where(df['Lag'].isin(range(8,32)),2,\n",
    "                                               np.where(df['Lag'].isin(range(32,366)),3,4))))"
   ]
  },
  {
   "cell_type": "code",
   "execution_count": 115,
   "id": "df0f0865",
   "metadata": {},
   "outputs": [
    {
     "data": {
      "text/html": [
       "<div>\n",
       "<style scoped>\n",
       "    .dataframe tbody tr th:only-of-type {\n",
       "        vertical-align: middle;\n",
       "    }\n",
       "\n",
       "    .dataframe tbody tr th {\n",
       "        vertical-align: top;\n",
       "    }\n",
       "\n",
       "    .dataframe thead th {\n",
       "        text-align: right;\n",
       "    }\n",
       "</style>\n",
       "<table border=\"1\" class=\"dataframe\">\n",
       "  <thead>\n",
       "    <tr style=\"text-align: right;\">\n",
       "      <th></th>\n",
       "      <th>AREA</th>\n",
       "      <th>Part 1-2</th>\n",
       "      <th>Month of Occurance</th>\n",
       "      <th>Date of Occurance</th>\n",
       "      <th>GROUP</th>\n",
       "      <th>PREMSE</th>\n",
       "      <th>Age</th>\n",
       "      <th>Gender</th>\n",
       "      <th>Race</th>\n",
       "      <th>WEAPON</th>\n",
       "      <th>Target</th>\n",
       "      <th>TIME CAT</th>\n",
       "      <th>Lag_in_Report</th>\n",
       "    </tr>\n",
       "  </thead>\n",
       "  <tbody>\n",
       "    <tr>\n",
       "      <th>0</th>\n",
       "      <td>4</td>\n",
       "      <td>1</td>\n",
       "      <td>6</td>\n",
       "      <td>20</td>\n",
       "      <td>GRAND THEFT</td>\n",
       "      <td>STREET</td>\n",
       "      <td>31.0</td>\n",
       "      <td>X</td>\n",
       "      <td>X</td>\n",
       "      <td>NOT USED</td>\n",
       "      <td>0</td>\n",
       "      <td>Missing</td>\n",
       "      <td>1</td>\n",
       "    </tr>\n",
       "    <tr>\n",
       "      <th>1</th>\n",
       "      <td>14</td>\n",
       "      <td>1</td>\n",
       "      <td>9</td>\n",
       "      <td>13</td>\n",
       "      <td>GRAND THEFT</td>\n",
       "      <td>STREET</td>\n",
       "      <td>31.0</td>\n",
       "      <td>X</td>\n",
       "      <td>X</td>\n",
       "      <td>NOT USED</td>\n",
       "      <td>0</td>\n",
       "      <td>Missing</td>\n",
       "      <td>3</td>\n",
       "    </tr>\n",
       "    <tr>\n",
       "      <th>2</th>\n",
       "      <td>9</td>\n",
       "      <td>2</td>\n",
       "      <td>6</td>\n",
       "      <td>23</td>\n",
       "      <td>OTHERS</td>\n",
       "      <td>STREET</td>\n",
       "      <td>31.0</td>\n",
       "      <td>M</td>\n",
       "      <td>O</td>\n",
       "      <td>NOT USED</td>\n",
       "      <td>0</td>\n",
       "      <td>Missing</td>\n",
       "      <td>0</td>\n",
       "    </tr>\n",
       "    <tr>\n",
       "      <th>3</th>\n",
       "      <td>19</td>\n",
       "      <td>1</td>\n",
       "      <td>8</td>\n",
       "      <td>9</td>\n",
       "      <td>GRAND THEFT</td>\n",
       "      <td>STREET</td>\n",
       "      <td>31.0</td>\n",
       "      <td>X</td>\n",
       "      <td>X</td>\n",
       "      <td>NOT USED</td>\n",
       "      <td>0</td>\n",
       "      <td>Missing</td>\n",
       "      <td>0</td>\n",
       "    </tr>\n",
       "    <tr>\n",
       "      <th>4</th>\n",
       "      <td>20</td>\n",
       "      <td>1</td>\n",
       "      <td>12</td>\n",
       "      <td>8</td>\n",
       "      <td>GRAND THEFT</td>\n",
       "      <td>STREET</td>\n",
       "      <td>31.0</td>\n",
       "      <td>X</td>\n",
       "      <td>X</td>\n",
       "      <td>NOT USED</td>\n",
       "      <td>0</td>\n",
       "      <td>Morning</td>\n",
       "      <td>0</td>\n",
       "    </tr>\n",
       "    <tr>\n",
       "      <th>5</th>\n",
       "      <td>18</td>\n",
       "      <td>1</td>\n",
       "      <td>9</td>\n",
       "      <td>15</td>\n",
       "      <td>GRAND THEFT</td>\n",
       "      <td>STREET</td>\n",
       "      <td>31.0</td>\n",
       "      <td>X</td>\n",
       "      <td>X</td>\n",
       "      <td>NOT USED</td>\n",
       "      <td>0</td>\n",
       "      <td>Missing</td>\n",
       "      <td>0</td>\n",
       "    </tr>\n",
       "    <tr>\n",
       "      <th>6</th>\n",
       "      <td>5</td>\n",
       "      <td>1</td>\n",
       "      <td>5</td>\n",
       "      <td>22</td>\n",
       "      <td>GRAND THEFT</td>\n",
       "      <td>STREET</td>\n",
       "      <td>31.0</td>\n",
       "      <td>X</td>\n",
       "      <td>X</td>\n",
       "      <td>NOT USED</td>\n",
       "      <td>0</td>\n",
       "      <td>Missing</td>\n",
       "      <td>0</td>\n",
       "    </tr>\n",
       "    <tr>\n",
       "      <th>7</th>\n",
       "      <td>14</td>\n",
       "      <td>1</td>\n",
       "      <td>6</td>\n",
       "      <td>30</td>\n",
       "      <td>GRAND THEFT</td>\n",
       "      <td>STREET</td>\n",
       "      <td>31.0</td>\n",
       "      <td>X</td>\n",
       "      <td>X</td>\n",
       "      <td>NOT USED</td>\n",
       "      <td>0</td>\n",
       "      <td>Missing</td>\n",
       "      <td>0</td>\n",
       "    </tr>\n",
       "    <tr>\n",
       "      <th>8</th>\n",
       "      <td>19</td>\n",
       "      <td>1</td>\n",
       "      <td>11</td>\n",
       "      <td>23</td>\n",
       "      <td>THEFT</td>\n",
       "      <td>ENTERTAINMENT ZONE</td>\n",
       "      <td>35.0</td>\n",
       "      <td>M</td>\n",
       "      <td>W</td>\n",
       "      <td>NOT USED</td>\n",
       "      <td>0</td>\n",
       "      <td>Missing</td>\n",
       "      <td>0</td>\n",
       "    </tr>\n",
       "    <tr>\n",
       "      <th>9</th>\n",
       "      <td>2</td>\n",
       "      <td>1</td>\n",
       "      <td>11</td>\n",
       "      <td>26</td>\n",
       "      <td>GRAND THEFT</td>\n",
       "      <td>STREET</td>\n",
       "      <td>31.0</td>\n",
       "      <td>X</td>\n",
       "      <td>X</td>\n",
       "      <td>NOT USED</td>\n",
       "      <td>1</td>\n",
       "      <td>Missing</td>\n",
       "      <td>0</td>\n",
       "    </tr>\n",
       "    <tr>\n",
       "      <th>10</th>\n",
       "      <td>13</td>\n",
       "      <td>1</td>\n",
       "      <td>8</td>\n",
       "      <td>6</td>\n",
       "      <td>THEFT</td>\n",
       "      <td>PARKING/GARAGE</td>\n",
       "      <td>31.0</td>\n",
       "      <td>X</td>\n",
       "      <td>X</td>\n",
       "      <td>NOT USED</td>\n",
       "      <td>0</td>\n",
       "      <td>Morning</td>\n",
       "      <td>0</td>\n",
       "    </tr>\n",
       "    <tr>\n",
       "      <th>11</th>\n",
       "      <td>17</td>\n",
       "      <td>2</td>\n",
       "      <td>5</td>\n",
       "      <td>29</td>\n",
       "      <td>VIOLATION</td>\n",
       "      <td>DOMESTIC</td>\n",
       "      <td>54.0</td>\n",
       "      <td>F</td>\n",
       "      <td>W</td>\n",
       "      <td>NOT USED</td>\n",
       "      <td>1</td>\n",
       "      <td>Morning</td>\n",
       "      <td>3</td>\n",
       "    </tr>\n",
       "    <tr>\n",
       "      <th>12</th>\n",
       "      <td>7</td>\n",
       "      <td>2</td>\n",
       "      <td>5</td>\n",
       "      <td>26</td>\n",
       "      <td>OTHERS</td>\n",
       "      <td>DOMESTIC</td>\n",
       "      <td>47.0</td>\n",
       "      <td>M</td>\n",
       "      <td>O</td>\n",
       "      <td>NOT USED</td>\n",
       "      <td>1</td>\n",
       "      <td>Morning</td>\n",
       "      <td>3</td>\n",
       "    </tr>\n",
       "    <tr>\n",
       "      <th>13</th>\n",
       "      <td>11</td>\n",
       "      <td>1</td>\n",
       "      <td>10</td>\n",
       "      <td>1</td>\n",
       "      <td>THEFT</td>\n",
       "      <td>BUSINESS AREA</td>\n",
       "      <td>31.0</td>\n",
       "      <td>M</td>\n",
       "      <td>O</td>\n",
       "      <td>NOT USED</td>\n",
       "      <td>0</td>\n",
       "      <td>Missing</td>\n",
       "      <td>0</td>\n",
       "    </tr>\n",
       "    <tr>\n",
       "      <th>14</th>\n",
       "      <td>19</td>\n",
       "      <td>1</td>\n",
       "      <td>9</td>\n",
       "      <td>17</td>\n",
       "      <td>THEFT</td>\n",
       "      <td>DOMESTIC</td>\n",
       "      <td>43.0</td>\n",
       "      <td>F</td>\n",
       "      <td>W</td>\n",
       "      <td>NOT USED</td>\n",
       "      <td>0</td>\n",
       "      <td>Morning</td>\n",
       "      <td>0</td>\n",
       "    </tr>\n",
       "    <tr>\n",
       "      <th>15</th>\n",
       "      <td>3</td>\n",
       "      <td>2</td>\n",
       "      <td>5</td>\n",
       "      <td>23</td>\n",
       "      <td>ASSULT</td>\n",
       "      <td>STREET</td>\n",
       "      <td>35.0</td>\n",
       "      <td>F</td>\n",
       "      <td>B</td>\n",
       "      <td>BODILY FORCE</td>\n",
       "      <td>0</td>\n",
       "      <td>Missing</td>\n",
       "      <td>0</td>\n",
       "    </tr>\n",
       "    <tr>\n",
       "      <th>16</th>\n",
       "      <td>9</td>\n",
       "      <td>1</td>\n",
       "      <td>5</td>\n",
       "      <td>24</td>\n",
       "      <td>THEFT</td>\n",
       "      <td>DOMESTIC</td>\n",
       "      <td>56.0</td>\n",
       "      <td>F</td>\n",
       "      <td>W</td>\n",
       "      <td>NOT USED</td>\n",
       "      <td>0</td>\n",
       "      <td>Morning</td>\n",
       "      <td>0</td>\n",
       "    </tr>\n",
       "    <tr>\n",
       "      <th>17</th>\n",
       "      <td>9</td>\n",
       "      <td>2</td>\n",
       "      <td>10</td>\n",
       "      <td>18</td>\n",
       "      <td>THEFT</td>\n",
       "      <td>DOMESTIC</td>\n",
       "      <td>28.0</td>\n",
       "      <td>F</td>\n",
       "      <td>H</td>\n",
       "      <td>NOT USED</td>\n",
       "      <td>0</td>\n",
       "      <td>Morning</td>\n",
       "      <td>1</td>\n",
       "    </tr>\n",
       "    <tr>\n",
       "      <th>18</th>\n",
       "      <td>12</td>\n",
       "      <td>2</td>\n",
       "      <td>10</td>\n",
       "      <td>9</td>\n",
       "      <td>ASSULT</td>\n",
       "      <td>STREET</td>\n",
       "      <td>38.0</td>\n",
       "      <td>M</td>\n",
       "      <td>H</td>\n",
       "      <td>BODILY FORCE</td>\n",
       "      <td>0</td>\n",
       "      <td>Missing</td>\n",
       "      <td>0</td>\n",
       "    </tr>\n",
       "    <tr>\n",
       "      <th>19</th>\n",
       "      <td>2</td>\n",
       "      <td>2</td>\n",
       "      <td>11</td>\n",
       "      <td>16</td>\n",
       "      <td>ASSULT</td>\n",
       "      <td>VEHICLE</td>\n",
       "      <td>63.0</td>\n",
       "      <td>M</td>\n",
       "      <td>W</td>\n",
       "      <td>BODILY FORCE</td>\n",
       "      <td>1</td>\n",
       "      <td>Missing</td>\n",
       "      <td>0</td>\n",
       "    </tr>\n",
       "  </tbody>\n",
       "</table>\n",
       "</div>"
      ],
      "text/plain": [
       "    AREA  Part 1-2  Month of Occurance  Date of Occurance        GROUP  \\\n",
       "0      4         1                   6                 20  GRAND THEFT   \n",
       "1     14         1                   9                 13  GRAND THEFT   \n",
       "2      9         2                   6                 23       OTHERS   \n",
       "3     19         1                   8                  9  GRAND THEFT   \n",
       "4     20         1                  12                  8  GRAND THEFT   \n",
       "5     18         1                   9                 15  GRAND THEFT   \n",
       "6      5         1                   5                 22  GRAND THEFT   \n",
       "7     14         1                   6                 30  GRAND THEFT   \n",
       "8     19         1                  11                 23        THEFT   \n",
       "9      2         1                  11                 26  GRAND THEFT   \n",
       "10    13         1                   8                  6        THEFT   \n",
       "11    17         2                   5                 29    VIOLATION   \n",
       "12     7         2                   5                 26       OTHERS   \n",
       "13    11         1                  10                  1        THEFT   \n",
       "14    19         1                   9                 17        THEFT   \n",
       "15     3         2                   5                 23       ASSULT   \n",
       "16     9         1                   5                 24        THEFT   \n",
       "17     9         2                  10                 18        THEFT   \n",
       "18    12         2                  10                  9       ASSULT   \n",
       "19     2         2                  11                 16       ASSULT   \n",
       "\n",
       "                PREMSE   Age Gender Race        WEAPON  Target TIME CAT  \\\n",
       "0               STREET  31.0      X    X      NOT USED       0  Missing   \n",
       "1               STREET  31.0      X    X      NOT USED       0  Missing   \n",
       "2               STREET  31.0      M    O      NOT USED       0  Missing   \n",
       "3               STREET  31.0      X    X      NOT USED       0  Missing   \n",
       "4               STREET  31.0      X    X      NOT USED       0  Morning   \n",
       "5               STREET  31.0      X    X      NOT USED       0  Missing   \n",
       "6               STREET  31.0      X    X      NOT USED       0  Missing   \n",
       "7               STREET  31.0      X    X      NOT USED       0  Missing   \n",
       "8   ENTERTAINMENT ZONE  35.0      M    W      NOT USED       0  Missing   \n",
       "9               STREET  31.0      X    X      NOT USED       1  Missing   \n",
       "10      PARKING/GARAGE  31.0      X    X      NOT USED       0  Morning   \n",
       "11            DOMESTIC  54.0      F    W      NOT USED       1  Morning   \n",
       "12            DOMESTIC  47.0      M    O      NOT USED       1  Morning   \n",
       "13       BUSINESS AREA  31.0      M    O      NOT USED       0  Missing   \n",
       "14            DOMESTIC  43.0      F    W      NOT USED       0  Morning   \n",
       "15              STREET  35.0      F    B  BODILY FORCE       0  Missing   \n",
       "16            DOMESTIC  56.0      F    W      NOT USED       0  Morning   \n",
       "17            DOMESTIC  28.0      F    H      NOT USED       0  Morning   \n",
       "18              STREET  38.0      M    H  BODILY FORCE       0  Missing   \n",
       "19             VEHICLE  63.0      M    W  BODILY FORCE       1  Missing   \n",
       "\n",
       "    Lag_in_Report  \n",
       "0               1  \n",
       "1               3  \n",
       "2               0  \n",
       "3               0  \n",
       "4               0  \n",
       "5               0  \n",
       "6               0  \n",
       "7               0  \n",
       "8               0  \n",
       "9               0  \n",
       "10              0  \n",
       "11              3  \n",
       "12              3  \n",
       "13              0  \n",
       "14              0  \n",
       "15              0  \n",
       "16              0  \n",
       "17              1  \n",
       "18              0  \n",
       "19              0  "
      ]
     },
     "execution_count": 115,
     "metadata": {},
     "output_type": "execute_result"
    }
   ],
   "source": [
    "df.head(20)"
   ]
  },
  {
   "cell_type": "code",
   "execution_count": 12,
   "id": "e3695813",
   "metadata": {},
   "outputs": [
    {
     "data": {
      "text/plain": [
       "Lag_in_Report\n",
       "0    675797\n",
       "1    150346\n",
       "2     68157\n",
       "3     44818\n",
       "4      5990\n",
       "Name: count, dtype: int64"
      ]
     },
     "execution_count": 12,
     "metadata": {},
     "output_type": "execute_result"
    }
   ],
   "source": [
    "df['Lag_in_Report'].value_counts(dropna = False)"
   ]
  },
  {
   "cell_type": "code",
   "execution_count": 13,
   "id": "153583c2",
   "metadata": {},
   "outputs": [],
   "source": [
    "df.drop(['Lag'],axis=1,inplace = True)"
   ]
  },
  {
   "cell_type": "code",
   "execution_count": 14,
   "id": "033d6ba3",
   "metadata": {},
   "outputs": [
    {
     "data": {
      "image/png": "[encoded data removed]",
      "text/plain": [
       "<Figure size 2000x1500 with 9 Axes>"
      ]
     },
     "metadata": {},
     "output_type": "display_data"
    }
   ],
   "source": [
    "%matplotlib inline\n",
    "import matplotlib.pyplot as plt\n",
    "df.hist(bins=50, figsize=(20,15))\n",
    "plt.show()"
   ]
  },
  {
   "cell_type": "code",
   "execution_count": 15,
   "id": "99961cda",
   "metadata": {},
   "outputs": [],
   "source": [
    "x_train, x_test, y_train, y_test = train_test_split(df.drop(\"Target\",axis=1), df[['Target']], test_size=0.30, random_state=42)"
   ]
  },
  {
   "cell_type": "code",
   "execution_count": 16,
   "id": "f0eee399",
   "metadata": {},
   "outputs": [
    {
     "name": "stdout",
     "output_type": "stream",
     "text": [
      "(661575, 12)\n",
      "(283533, 12)\n",
      "(661575, 1)\n",
      "(283533, 1)\n"
     ]
    }
   ],
   "source": [
    "print(x_train.shape)\n",
    "print(x_test.shape)\n",
    "print(y_train.shape)\n",
    "print(y_test.shape)"
   ]
  },
  {
   "cell_type": "code",
   "execution_count": 17,
   "id": "ab17ad7b",
   "metadata": {},
   "outputs": [
    {
     "name": "stdout",
     "output_type": "stream",
     "text": [
      "Target\n",
      "0    526025\n",
      "1    135550\n",
      "Name: count, dtype: int64\n"
     ]
    },
    {
     "data": {
      "text/plain": [
       "<Axes: xlabel='Target', ylabel='count'>"
      ]
     },
     "execution_count": 17,
     "metadata": {},
     "output_type": "execute_result"
    },
    {
     "data": {
      "image/png": "[encoded data removed]",
      "text/plain": [
       "<Figure size 640x480 with 1 Axes>"
      ]
     },
     "metadata": {},
     "output_type": "display_data"
    }
   ],
   "source": [
    "print(y_train['Target'].value_counts())\n",
    "sns.countplot(y_train,x=y_train['Target'])"
   ]
  },
  {
   "cell_type": "code",
   "execution_count": 18,
   "id": "1fa6c8cd",
   "metadata": {},
   "outputs": [
    {
     "data": {
      "text/plain": [
       "(661575, 13)"
      ]
     },
     "execution_count": 18,
     "metadata": {},
     "output_type": "execute_result"
    }
   ],
   "source": [
    "df_train = x_train.join(y_train)\n",
    "df_train.shape"
   ]
  },
  {
   "cell_type": "code",
   "execution_count": 19,
   "id": "e410e91a",
   "metadata": {},
   "outputs": [],
   "source": [
    "from sklearn.utils import resample\n",
    "#create two different dataframe of majority and minority class \n",
    "df_majority = df_train[(df_train['Target']==0)] \n",
    "df_minority = df_train[(df_train['Target']==1)] \n",
    "# upsample minority class\n",
    "df_minority_upsampled = resample(df_minority, \n",
    "                                 replace=True,    # sample with replacement\n",
    "                                 n_samples= 500000, # to match majority class\n",
    "                                 random_state=42)  # reproducible results\n",
    "# Combine majority class with upsampled minority class\n",
    "df_upsampled = pd.concat([df_minority_upsampled, df_majority])"
   ]
  },
  {
   "cell_type": "code",
   "execution_count": 20,
   "id": "8b15a27e",
   "metadata": {},
   "outputs": [
    {
     "name": "stdout",
     "output_type": "stream",
     "text": [
      "Target\n",
      "0    526025\n",
      "1    500000\n",
      "Name: count, dtype: int64\n"
     ]
    },
    {
     "data": {
      "text/plain": [
       "<Axes: xlabel='Target', ylabel='count'>"
      ]
     },
     "execution_count": 20,
     "metadata": {},
     "output_type": "execute_result"
    },
    {
     "data": {
      "image/png": "[encoded data removed]",
      "text/plain": [
       "<Figure size 640x480 with 1 Axes>"
      ]
     },
     "metadata": {},
     "output_type": "display_data"
    }
   ],
   "source": [
    "print(df_upsampled['Target'].value_counts())\n",
    "sns.countplot(df_upsampled,x=df_upsampled['Target'])"
   ]
  },
  {
   "cell_type": "code",
   "execution_count": 21,
   "id": "eab50e9b",
   "metadata": {},
   "outputs": [
    {
     "data": {
      "text/plain": [
       "(1026025, 13)"
      ]
     },
     "execution_count": 21,
     "metadata": {},
     "output_type": "execute_result"
    }
   ],
   "source": [
    "df_upsampled.shape"
   ]
  },
  {
   "cell_type": "code",
   "execution_count": 22,
   "id": "e127358a",
   "metadata": {},
   "outputs": [],
   "source": [
    "X_train = df_upsampled.drop(['Target'],axis=1)\n",
    "y_train = df_upsampled['Target']"
   ]
  },
  {
   "cell_type": "raw",
   "id": "d1b3491d",
   "metadata": {},
   "source": [
    "X_train = x_train.copy()"
   ]
  },
  {
   "cell_type": "code",
   "execution_count": 23,
   "id": "e0b78e4f",
   "metadata": {},
   "outputs": [
    {
     "data": {
      "text/plain": [
       "(1026025, 12)"
      ]
     },
     "execution_count": 23,
     "metadata": {},
     "output_type": "execute_result"
    }
   ],
   "source": [
    "X_train.shape"
   ]
  },
  {
   "cell_type": "code",
   "execution_count": 24,
   "id": "f59a5ab3",
   "metadata": {},
   "outputs": [
    {
     "data": {
      "text/plain": [
       "Index(['AREA', 'Part 1-2', 'Month of Occurance', 'GROUP', 'PREMSE', 'Gender',\n",
       "       'Race', 'WEAPON', 'TIME CAT'],\n",
       "      dtype='object')"
      ]
     },
     "execution_count": 24,
     "metadata": {},
     "output_type": "execute_result"
    }
   ],
   "source": [
    "X_cat = X_train.drop(['Age','Lag_in_Report','Date of Occurance'],axis=1)\n",
    "X_cat.columns"
   ]
  },
  {
   "cell_type": "code",
   "execution_count": 25,
   "id": "4d62b491",
   "metadata": {},
   "outputs": [
    {
     "data": {
      "text/html": [
       "<div>\n",
       "<style scoped>\n",
       "    .dataframe tbody tr th:only-of-type {\n",
       "        vertical-align: middle;\n",
       "    }\n",
       "\n",
       "    .dataframe tbody tr th {\n",
       "        vertical-align: top;\n",
       "    }\n",
       "\n",
       "    .dataframe thead th {\n",
       "        text-align: right;\n",
       "    }\n",
       "</style>\n",
       "<table border=\"1\" class=\"dataframe\">\n",
       "  <thead>\n",
       "    <tr style=\"text-align: right;\">\n",
       "      <th></th>\n",
       "      <th>index</th>\n",
       "      <th>Age</th>\n",
       "      <th>Lag_in_Report</th>\n",
       "      <th>Date of Occurance</th>\n",
       "    </tr>\n",
       "  </thead>\n",
       "  <tbody>\n",
       "    <tr>\n",
       "      <th>0</th>\n",
       "      <td>294117</td>\n",
       "      <td>31.0</td>\n",
       "      <td>0</td>\n",
       "      <td>13</td>\n",
       "    </tr>\n",
       "    <tr>\n",
       "      <th>1</th>\n",
       "      <td>526683</td>\n",
       "      <td>37.0</td>\n",
       "      <td>0</td>\n",
       "      <td>25</td>\n",
       "    </tr>\n",
       "    <tr>\n",
       "      <th>2</th>\n",
       "      <td>99442</td>\n",
       "      <td>46.0</td>\n",
       "      <td>0</td>\n",
       "      <td>20</td>\n",
       "    </tr>\n",
       "    <tr>\n",
       "      <th>3</th>\n",
       "      <td>793884</td>\n",
       "      <td>49.0</td>\n",
       "      <td>0</td>\n",
       "      <td>13</td>\n",
       "    </tr>\n",
       "    <tr>\n",
       "      <th>4</th>\n",
       "      <td>675063</td>\n",
       "      <td>31.0</td>\n",
       "      <td>0</td>\n",
       "      <td>5</td>\n",
       "    </tr>\n",
       "  </tbody>\n",
       "</table>\n",
       "</div>"
      ],
      "text/plain": [
       "    index   Age  Lag_in_Report  Date of Occurance\n",
       "0  294117  31.0              0                 13\n",
       "1  526683  37.0              0                 25\n",
       "2   99442  46.0              0                 20\n",
       "3  793884  49.0              0                 13\n",
       "4  675063  31.0              0                  5"
      ]
     },
     "execution_count": 25,
     "metadata": {},
     "output_type": "execute_result"
    }
   ],
   "source": [
    "X_num = X_train[['Age','Lag_in_Report','Date of Occurance']].reset_index()\n",
    "X_num.head()"
   ]
  },
  {
   "cell_type": "code",
   "execution_count": 26,
   "id": "1d8e8c00",
   "metadata": {},
   "outputs": [
    {
     "name": "stderr",
     "output_type": "stream",
     "text": [
      "C:\\Users\\USER\\anaconda3\\Lib\\site-packages\\sklearn\\preprocessing\\_encoders.py:972: FutureWarning: `sparse` was renamed to `sparse_output` in version 1.2 and will be removed in 1.4. `sparse_output` is ignored unless you leave `sparse` to its default value.\n",
      "  warnings.warn(\n"
     ]
    },
    {
     "data": {
      "text/html": [
       "<div>\n",
       "<style scoped>\n",
       "    .dataframe tbody tr th:only-of-type {\n",
       "        vertical-align: middle;\n",
       "    }\n",
       "\n",
       "    .dataframe tbody tr th {\n",
       "        vertical-align: top;\n",
       "    }\n",
       "\n",
       "    .dataframe thead th {\n",
       "        text-align: right;\n",
       "    }\n",
       "</style>\n",
       "<table border=\"1\" class=\"dataframe\">\n",
       "  <thead>\n",
       "    <tr style=\"text-align: right;\">\n",
       "      <th></th>\n",
       "      <th>index</th>\n",
       "      <th>Age</th>\n",
       "      <th>Lag_in_Report</th>\n",
       "      <th>Date of Occurance</th>\n",
       "      <th>AREA_1</th>\n",
       "      <th>AREA_2</th>\n",
       "      <th>AREA_3</th>\n",
       "      <th>AREA_4</th>\n",
       "      <th>AREA_5</th>\n",
       "      <th>AREA_6</th>\n",
       "      <th>...</th>\n",
       "      <th>WEAPON_BLUNT OBJECT</th>\n",
       "      <th>WEAPON_BODILY FORCE</th>\n",
       "      <th>WEAPON_FIREARM</th>\n",
       "      <th>WEAPON_NOT USED</th>\n",
       "      <th>WEAPON_OTHER</th>\n",
       "      <th>WEAPON_SHARP OBJECTS</th>\n",
       "      <th>WEAPON_UNKNOWN WEAPON</th>\n",
       "      <th>TIME CAT_Missing</th>\n",
       "      <th>TIME CAT_Morning</th>\n",
       "      <th>TIME CAT_Night</th>\n",
       "    </tr>\n",
       "  </thead>\n",
       "  <tbody>\n",
       "    <tr>\n",
       "      <th>0</th>\n",
       "      <td>294117</td>\n",
       "      <td>31.0</td>\n",
       "      <td>0</td>\n",
       "      <td>13</td>\n",
       "      <td>0.0</td>\n",
       "      <td>0.0</td>\n",
       "      <td>0.0</td>\n",
       "      <td>0.0</td>\n",
       "      <td>0.0</td>\n",
       "      <td>0.0</td>\n",
       "      <td>...</td>\n",
       "      <td>0.0</td>\n",
       "      <td>0.0</td>\n",
       "      <td>0.0</td>\n",
       "      <td>0.0</td>\n",
       "      <td>0.0</td>\n",
       "      <td>0.0</td>\n",
       "      <td>1.0</td>\n",
       "      <td>0.0</td>\n",
       "      <td>1.0</td>\n",
       "      <td>0.0</td>\n",
       "    </tr>\n",
       "    <tr>\n",
       "      <th>1</th>\n",
       "      <td>526683</td>\n",
       "      <td>37.0</td>\n",
       "      <td>0</td>\n",
       "      <td>25</td>\n",
       "      <td>0.0</td>\n",
       "      <td>0.0</td>\n",
       "      <td>0.0</td>\n",
       "      <td>0.0</td>\n",
       "      <td>0.0</td>\n",
       "      <td>0.0</td>\n",
       "      <td>...</td>\n",
       "      <td>0.0</td>\n",
       "      <td>0.0</td>\n",
       "      <td>0.0</td>\n",
       "      <td>1.0</td>\n",
       "      <td>0.0</td>\n",
       "      <td>0.0</td>\n",
       "      <td>0.0</td>\n",
       "      <td>0.0</td>\n",
       "      <td>1.0</td>\n",
       "      <td>0.0</td>\n",
       "    </tr>\n",
       "    <tr>\n",
       "      <th>2</th>\n",
       "      <td>99442</td>\n",
       "      <td>46.0</td>\n",
       "      <td>0</td>\n",
       "      <td>20</td>\n",
       "      <td>0.0</td>\n",
       "      <td>0.0</td>\n",
       "      <td>0.0</td>\n",
       "      <td>1.0</td>\n",
       "      <td>0.0</td>\n",
       "      <td>0.0</td>\n",
       "      <td>...</td>\n",
       "      <td>0.0</td>\n",
       "      <td>1.0</td>\n",
       "      <td>0.0</td>\n",
       "      <td>0.0</td>\n",
       "      <td>0.0</td>\n",
       "      <td>0.0</td>\n",
       "      <td>0.0</td>\n",
       "      <td>1.0</td>\n",
       "      <td>0.0</td>\n",
       "      <td>0.0</td>\n",
       "    </tr>\n",
       "    <tr>\n",
       "      <th>3</th>\n",
       "      <td>793884</td>\n",
       "      <td>49.0</td>\n",
       "      <td>0</td>\n",
       "      <td>13</td>\n",
       "      <td>0.0</td>\n",
       "      <td>0.0</td>\n",
       "      <td>0.0</td>\n",
       "      <td>0.0</td>\n",
       "      <td>0.0</td>\n",
       "      <td>0.0</td>\n",
       "      <td>...</td>\n",
       "      <td>0.0</td>\n",
       "      <td>1.0</td>\n",
       "      <td>0.0</td>\n",
       "      <td>0.0</td>\n",
       "      <td>0.0</td>\n",
       "      <td>0.0</td>\n",
       "      <td>0.0</td>\n",
       "      <td>0.0</td>\n",
       "      <td>0.0</td>\n",
       "      <td>1.0</td>\n",
       "    </tr>\n",
       "    <tr>\n",
       "      <th>4</th>\n",
       "      <td>675063</td>\n",
       "      <td>31.0</td>\n",
       "      <td>0</td>\n",
       "      <td>5</td>\n",
       "      <td>0.0</td>\n",
       "      <td>0.0</td>\n",
       "      <td>0.0</td>\n",
       "      <td>0.0</td>\n",
       "      <td>0.0</td>\n",
       "      <td>0.0</td>\n",
       "      <td>...</td>\n",
       "      <td>0.0</td>\n",
       "      <td>1.0</td>\n",
       "      <td>0.0</td>\n",
       "      <td>0.0</td>\n",
       "      <td>0.0</td>\n",
       "      <td>0.0</td>\n",
       "      <td>0.0</td>\n",
       "      <td>1.0</td>\n",
       "      <td>0.0</td>\n",
       "      <td>0.0</td>\n",
       "    </tr>\n",
       "  </tbody>\n",
       "</table>\n",
       "<p>5 rows × 89 columns</p>\n",
       "</div>"
      ],
      "text/plain": [
       "    index   Age  Lag_in_Report  Date of Occurance  AREA_1  AREA_2  AREA_3  \\\n",
       "0  294117  31.0              0                 13     0.0     0.0     0.0   \n",
       "1  526683  37.0              0                 25     0.0     0.0     0.0   \n",
       "2   99442  46.0              0                 20     0.0     0.0     0.0   \n",
       "3  793884  49.0              0                 13     0.0     0.0     0.0   \n",
       "4  675063  31.0              0                  5     0.0     0.0     0.0   \n",
       "\n",
       "   AREA_4  AREA_5  AREA_6  ...  WEAPON_BLUNT OBJECT  WEAPON_BODILY FORCE  \\\n",
       "0     0.0     0.0     0.0  ...                  0.0                  0.0   \n",
       "1     0.0     0.0     0.0  ...                  0.0                  0.0   \n",
       "2     1.0     0.0     0.0  ...                  0.0                  1.0   \n",
       "3     0.0     0.0     0.0  ...                  0.0                  1.0   \n",
       "4     0.0     0.0     0.0  ...                  0.0                  1.0   \n",
       "\n",
       "   WEAPON_FIREARM  WEAPON_NOT USED  WEAPON_OTHER  WEAPON_SHARP OBJECTS  \\\n",
       "0             0.0              0.0           0.0                   0.0   \n",
       "1             0.0              1.0           0.0                   0.0   \n",
       "2             0.0              0.0           0.0                   0.0   \n",
       "3             0.0              0.0           0.0                   0.0   \n",
       "4             0.0              0.0           0.0                   0.0   \n",
       "\n",
       "   WEAPON_UNKNOWN WEAPON  TIME CAT_Missing  TIME CAT_Morning  TIME CAT_Night  \n",
       "0                    1.0               0.0               1.0             0.0  \n",
       "1                    0.0               0.0               1.0             0.0  \n",
       "2                    0.0               1.0               0.0             0.0  \n",
       "3                    0.0               0.0               0.0             1.0  \n",
       "4                    0.0               1.0               0.0             0.0  \n",
       "\n",
       "[5 rows x 89 columns]"
      ]
     },
     "execution_count": 26,
     "metadata": {},
     "output_type": "execute_result"
    }
   ],
   "source": [
    "encoder = OneHotEncoder(sparse=False, handle_unknown='ignore')\n",
    "X_encoded = encoder.fit_transform(X_cat)\n",
    "# create the names for the one-hot encoded categorical features\n",
    "categorical_columns = [f'{col}_{cat}' for i, col in enumerate(X_cat) for cat in encoder.categories_[i]]\n",
    "# put the features into a dataframe and join with the original\n",
    "# numerical features\n",
    "one_hot_features = pd.DataFrame(X_encoded, columns=categorical_columns)\n",
    "X_train_enc = X_num.join(one_hot_features)\n",
    "X_train_enc.head()"
   ]
  },
  {
   "cell_type": "code",
   "execution_count": null,
   "id": "a2be8884",
   "metadata": {},
   "outputs": [],
   "source": [
    "with open('label_encoder.pkl', 'wb') as file:\n",
    "    pickle.dump(encoder, file)"
   ]
  },
  {
   "cell_type": "code",
   "execution_count": 27,
   "id": "4469fa70",
   "metadata": {},
   "outputs": [],
   "source": [
    "X_train_enc.drop(\"index\",axis=1,inplace = True)"
   ]
  },
  {
   "cell_type": "code",
   "execution_count": 112,
   "id": "0647b4a4",
   "metadata": {},
   "outputs": [
    {
     "data": {
      "text/plain": [
       "'17'"
      ]
     },
     "execution_count": 112,
     "metadata": {},
     "output_type": "execute_result"
    }
   ],
   "source": [
    "str(X_train['AREA'].iloc[0])"
   ]
  },
  {
   "cell_type": "code",
   "execution_count": 119,
   "id": "d04413e5",
   "metadata": {},
   "outputs": [
    {
     "data": {
      "text/plain": [
       "'SERIOUS ASSULT'"
      ]
     },
     "execution_count": 119,
     "metadata": {},
     "output_type": "execute_result"
    }
   ],
   "source": [
    "tmp = X_train['GROUP'].iloc[16]\n",
    "tmp.replace(\"ASSAULT\",\"ASSULT\")\n",
    "tmp"
   ]
  },
  {
   "cell_type": "code",
   "execution_count": 113,
   "id": "f3a9a57b",
   "metadata": {},
   "outputs": [
    {
     "data": {
      "text/plain": [
       "Index(['Age', 'Lag_in_Report', 'Date of Occurance', 'AREA_1', 'AREA_2',\n",
       "       'AREA_3', 'AREA_4', 'AREA_5', 'AREA_6', 'AREA_7', 'AREA_8', 'AREA_9',\n",
       "       'AREA_10', 'AREA_11', 'AREA_12', 'AREA_13', 'AREA_14', 'AREA_15',\n",
       "       'AREA_16', 'AREA_17', 'AREA_18', 'AREA_19', 'AREA_20', 'AREA_21',\n",
       "       'Part 1-2_1', 'Part 1-2_2', 'Month of Occurance_1',\n",
       "       'Month of Occurance_2', 'Month of Occurance_3', 'Month of Occurance_4',\n",
       "       'Month of Occurance_5', 'Month of Occurance_6', 'Month of Occurance_7',\n",
       "       'Month of Occurance_8', 'Month of Occurance_9', 'Month of Occurance_10',\n",
       "       'Month of Occurance_11', 'Month of Occurance_12', 'GROUP_ASSULT',\n",
       "       'GROUP_CRIMES AGAINST CHILDREN', 'GROUP_FINANCIAL CRIME',\n",
       "       'GROUP_GRAND THEFT', 'GROUP_HOMICIDE', 'GROUP_IDENTITY THEFT',\n",
       "       'GROUP_KIDNAPPING', 'GROUP_OTHERS', 'GROUP_SERIOUS ASSULT',\n",
       "       'GROUP_SEX OFFENDERS', 'GROUP_THEFT', 'GROUP_THREATS',\n",
       "       'GROUP_TRESPASSING', 'GROUP_VANDALISM', 'GROUP_VIOLATION',\n",
       "       'GROUP_WEAPON ASSULT', 'PREMSE_BANK', 'PREMSE_BUSINESS AREA',\n",
       "       'PREMSE_DOMESTIC', 'PREMSE_DOMESTIC TEMPORARY',\n",
       "       'PREMSE_EDUCATIONAL AREA', 'PREMSE_ENTERTAINMENT ZONE',\n",
       "       'PREMSE_MEDICAL CENTERS', 'PREMSE_OTHER', 'PREMSE_PARKING/GARAGE',\n",
       "       'PREMSE_PUBLIC PLACE', 'PREMSE_ROADS', 'PREMSE_STREET',\n",
       "       'PREMSE_VEHICLE', 'Gender_F', 'Gender_M', 'Gender_X', 'Race_Asian',\n",
       "       'Race_B', 'Race_H', 'Race_I', 'Race_O', 'Race_Other US', 'Race_W',\n",
       "       'Race_X', 'WEAPON_BLUNT OBJECT', 'WEAPON_BODILY FORCE',\n",
       "       'WEAPON_FIREARM', 'WEAPON_NOT USED', 'WEAPON_OTHER',\n",
       "       'WEAPON_SHARP OBJECTS', 'WEAPON_UNKNOWN WEAPON', 'TIME CAT_Missing',\n",
       "       'TIME CAT_Morning', 'TIME CAT_Night'],\n",
       "      dtype='object')"
      ]
     },
     "execution_count": 113,
     "metadata": {},
     "output_type": "execute_result"
    }
   ],
   "source": [
    "X_train_enc.columns"
   ]
  },
  {
   "cell_type": "code",
   "execution_count": 87,
   "id": "e06af272",
   "metadata": {},
   "outputs": [],
   "source": [
    "test = pd.DataFrame(columns=X_train_enc.columns)"
   ]
  },
  {
   "cell_type": "code",
   "execution_count": 98,
   "id": "c7c97944",
   "metadata": {},
   "outputs": [],
   "source": [
    "test.to_pickle(\"Base_Data.pkl\")"
   ]
  },
  {
   "cell_type": "code",
   "execution_count": 90,
   "id": "4161a9bb",
   "metadata": {},
   "outputs": [],
   "source": [
    "test['Age']=10"
   ]
  },
  {
   "cell_type": "code",
   "execution_count": 91,
   "id": "a9b6c5b0",
   "metadata": {},
   "outputs": [
    {
     "data": {
      "text/html": [
       "<div>\n",
       "<style scoped>\n",
       "    .dataframe tbody tr th:only-of-type {\n",
       "        vertical-align: middle;\n",
       "    }\n",
       "\n",
       "    .dataframe tbody tr th {\n",
       "        vertical-align: top;\n",
       "    }\n",
       "\n",
       "    .dataframe thead th {\n",
       "        text-align: right;\n",
       "    }\n",
       "</style>\n",
       "<table border=\"1\" class=\"dataframe\">\n",
       "  <thead>\n",
       "    <tr style=\"text-align: right;\">\n",
       "      <th></th>\n",
       "      <th>Age</th>\n",
       "      <th>Lag_in_Report</th>\n",
       "      <th>Date of Occurance</th>\n",
       "      <th>AREA_1</th>\n",
       "      <th>AREA_2</th>\n",
       "      <th>AREA_3</th>\n",
       "      <th>AREA_4</th>\n",
       "      <th>AREA_5</th>\n",
       "      <th>AREA_6</th>\n",
       "      <th>AREA_7</th>\n",
       "      <th>...</th>\n",
       "      <th>WEAPON_BLUNT OBJECT</th>\n",
       "      <th>WEAPON_BODILY FORCE</th>\n",
       "      <th>WEAPON_FIREARM</th>\n",
       "      <th>WEAPON_NOT USED</th>\n",
       "      <th>WEAPON_OTHER</th>\n",
       "      <th>WEAPON_SHARP OBJECTS</th>\n",
       "      <th>WEAPON_UNKNOWN WEAPON</th>\n",
       "      <th>TIME CAT_Missing</th>\n",
       "      <th>TIME CAT_Morning</th>\n",
       "      <th>TIME CAT_Night</th>\n",
       "    </tr>\n",
       "  </thead>\n",
       "  <tbody>\n",
       "  </tbody>\n",
       "</table>\n",
       "<p>0 rows × 88 columns</p>\n",
       "</div>"
      ],
      "text/plain": [
       "Empty DataFrame\n",
       "Columns: [Age, Lag_in_Report, Date of Occurance, AREA_1, AREA_2, AREA_3, AREA_4, AREA_5, AREA_6, AREA_7, AREA_8, AREA_9, AREA_10, AREA_11, AREA_12, AREA_13, AREA_14, AREA_15, AREA_16, AREA_17, AREA_18, AREA_19, AREA_20, AREA_21, Part 1-2_1, Part 1-2_2, Month of Occurance_1, Month of Occurance_2, Month of Occurance_3, Month of Occurance_4, Month of Occurance_5, Month of Occurance_6, Month of Occurance_7, Month of Occurance_8, Month of Occurance_9, Month of Occurance_10, Month of Occurance_11, Month of Occurance_12, GROUP_ASSULT, GROUP_CRIMES AGAINST CHILDREN, GROUP_FINANCIAL CRIME, GROUP_GRAND THEFT, GROUP_HOMICIDE, GROUP_IDENTITY THEFT, GROUP_KIDNAPPING, GROUP_OTHERS, GROUP_SERIOUS ASSULT, GROUP_SEX OFFENDERS, GROUP_THEFT, GROUP_THREATS, GROUP_TRESPASSING, GROUP_VANDALISM, GROUP_VIOLATION, GROUP_WEAPON ASSULT, PREMSE_BANK, PREMSE_BUSINESS AREA, PREMSE_DOMESTIC, PREMSE_DOMESTIC TEMPORARY, PREMSE_EDUCATIONAL AREA, PREMSE_ENTERTAINMENT ZONE, PREMSE_MEDICAL CENTERS, PREMSE_OTHER, PREMSE_PARKING/GARAGE, PREMSE_PUBLIC PLACE, PREMSE_ROADS, PREMSE_STREET, PREMSE_VEHICLE, Gender_F, Gender_M, Gender_X, Race_Asian, Race_B, Race_H, Race_I, Race_O, Race_Other US, Race_W, Race_X, WEAPON_BLUNT OBJECT, WEAPON_BODILY FORCE, WEAPON_FIREARM, WEAPON_NOT USED, WEAPON_OTHER, WEAPON_SHARP OBJECTS, WEAPON_UNKNOWN WEAPON, TIME CAT_Missing, TIME CAT_Morning, TIME CAT_Night]\n",
       "Index: []\n",
       "\n",
       "[0 rows x 88 columns]"
      ]
     },
     "execution_count": 91,
     "metadata": {},
     "output_type": "execute_result"
    }
   ],
   "source": [
    "test"
   ]
  },
  {
   "cell_type": "code",
   "execution_count": 28,
   "id": "3e22cde2",
   "metadata": {},
   "outputs": [
    {
     "data": {
      "text/plain": [
       "(1026025, 88)"
      ]
     },
     "execution_count": 28,
     "metadata": {},
     "output_type": "execute_result"
    }
   ],
   "source": [
    "X_train_enc.shape"
   ]
  },
  {
   "cell_type": "code",
   "execution_count": 97,
   "id": "8348c2e8",
   "metadata": {},
   "outputs": [
    {
     "data": {
      "text/html": [
       "<div>\n",
       "<style scoped>\n",
       "    .dataframe tbody tr th:only-of-type {\n",
       "        vertical-align: middle;\n",
       "    }\n",
       "\n",
       "    .dataframe tbody tr th {\n",
       "        vertical-align: top;\n",
       "    }\n",
       "\n",
       "    .dataframe thead th {\n",
       "        text-align: right;\n",
       "    }\n",
       "</style>\n",
       "<table border=\"1\" class=\"dataframe\">\n",
       "  <thead>\n",
       "    <tr style=\"text-align: right;\">\n",
       "      <th></th>\n",
       "      <th>Age</th>\n",
       "      <th>Lag_in_Report</th>\n",
       "      <th>Date of Occurance</th>\n",
       "      <th>AREA_1</th>\n",
       "      <th>AREA_2</th>\n",
       "      <th>AREA_3</th>\n",
       "      <th>AREA_4</th>\n",
       "      <th>AREA_5</th>\n",
       "      <th>AREA_6</th>\n",
       "      <th>AREA_7</th>\n",
       "      <th>...</th>\n",
       "      <th>WEAPON_BLUNT OBJECT</th>\n",
       "      <th>WEAPON_BODILY FORCE</th>\n",
       "      <th>WEAPON_FIREARM</th>\n",
       "      <th>WEAPON_NOT USED</th>\n",
       "      <th>WEAPON_OTHER</th>\n",
       "      <th>WEAPON_SHARP OBJECTS</th>\n",
       "      <th>WEAPON_UNKNOWN WEAPON</th>\n",
       "      <th>TIME CAT_Missing</th>\n",
       "      <th>TIME CAT_Morning</th>\n",
       "      <th>TIME CAT_Night</th>\n",
       "    </tr>\n",
       "  </thead>\n",
       "  <tbody>\n",
       "    <tr>\n",
       "      <th>0</th>\n",
       "      <td>10</td>\n",
       "      <td>NaN</td>\n",
       "      <td>NaN</td>\n",
       "      <td>NaN</td>\n",
       "      <td>NaN</td>\n",
       "      <td>NaN</td>\n",
       "      <td>NaN</td>\n",
       "      <td>NaN</td>\n",
       "      <td>NaN</td>\n",
       "      <td>NaN</td>\n",
       "      <td>...</td>\n",
       "      <td>NaN</td>\n",
       "      <td>NaN</td>\n",
       "      <td>NaN</td>\n",
       "      <td>NaN</td>\n",
       "      <td>NaN</td>\n",
       "      <td>NaN</td>\n",
       "      <td>NaN</td>\n",
       "      <td>NaN</td>\n",
       "      <td>NaN</td>\n",
       "      <td>NaN</td>\n",
       "    </tr>\n",
       "  </tbody>\n",
       "</table>\n",
       "<p>1 rows × 88 columns</p>\n",
       "</div>"
      ],
      "text/plain": [
       "   Age Lag_in_Report Date of Occurance AREA_1 AREA_2 AREA_3 AREA_4 AREA_5  \\\n",
       "0   10           NaN               NaN    NaN    NaN    NaN    NaN    NaN   \n",
       "\n",
       "  AREA_6 AREA_7  ... WEAPON_BLUNT OBJECT WEAPON_BODILY FORCE WEAPON_FIREARM  \\\n",
       "0    NaN    NaN  ...                 NaN                 NaN            NaN   \n",
       "\n",
       "  WEAPON_NOT USED WEAPON_OTHER WEAPON_SHARP OBJECTS WEAPON_UNKNOWN WEAPON  \\\n",
       "0             NaN          NaN                  NaN                   NaN   \n",
       "\n",
       "  TIME CAT_Missing TIME CAT_Morning TIME CAT_Night  \n",
       "0              NaN              NaN            NaN  \n",
       "\n",
       "[1 rows x 88 columns]"
      ]
     },
     "execution_count": 97,
     "metadata": {},
     "output_type": "execute_result"
    }
   ],
   "source": [
    "data = {'Age':[10]}\n",
    "test2 = pd.DataFrame(data)\n",
    "test3 = pd.concat([test,test2])\n",
    "test3"
   ]
  },
  {
   "cell_type": "code",
   "execution_count": 29,
   "id": "cee6a89b",
   "metadata": {},
   "outputs": [
    {
     "data": {
      "text/plain": [
       "(1026025,)"
      ]
     },
     "execution_count": 29,
     "metadata": {},
     "output_type": "execute_result"
    }
   ],
   "source": [
    "#y = df[['Target']]\n",
    "y_train.shape"
   ]
  },
  {
   "cell_type": "code",
   "execution_count": 30,
   "id": "c85f092d",
   "metadata": {},
   "outputs": [
    {
     "name": "stderr",
     "output_type": "stream",
     "text": [
      "C:\\Users\\USER\\anaconda3\\Lib\\site-packages\\sklearn\\preprocessing\\_encoders.py:972: FutureWarning: `sparse` was renamed to `sparse_output` in version 1.2 and will be removed in 1.4. `sparse_output` is ignored unless you leave `sparse` to its default value.\n",
      "  warnings.warn(\n"
     ]
    },
    {
     "data": {
      "text/html": [
       "<div>\n",
       "<style scoped>\n",
       "    .dataframe tbody tr th:only-of-type {\n",
       "        vertical-align: middle;\n",
       "    }\n",
       "\n",
       "    .dataframe tbody tr th {\n",
       "        vertical-align: top;\n",
       "    }\n",
       "\n",
       "    .dataframe thead th {\n",
       "        text-align: right;\n",
       "    }\n",
       "</style>\n",
       "<table border=\"1\" class=\"dataframe\">\n",
       "  <thead>\n",
       "    <tr style=\"text-align: right;\">\n",
       "      <th></th>\n",
       "      <th>index</th>\n",
       "      <th>Age</th>\n",
       "      <th>Lag_in_Report</th>\n",
       "      <th>Date of Occurance</th>\n",
       "      <th>AREA_1</th>\n",
       "      <th>AREA_2</th>\n",
       "      <th>AREA_3</th>\n",
       "      <th>AREA_4</th>\n",
       "      <th>AREA_5</th>\n",
       "      <th>AREA_6</th>\n",
       "      <th>...</th>\n",
       "      <th>WEAPON_BLUNT OBJECT</th>\n",
       "      <th>WEAPON_BODILY FORCE</th>\n",
       "      <th>WEAPON_FIREARM</th>\n",
       "      <th>WEAPON_NOT USED</th>\n",
       "      <th>WEAPON_OTHER</th>\n",
       "      <th>WEAPON_SHARP OBJECTS</th>\n",
       "      <th>WEAPON_UNKNOWN WEAPON</th>\n",
       "      <th>TIME CAT_Missing</th>\n",
       "      <th>TIME CAT_Morning</th>\n",
       "      <th>TIME CAT_Night</th>\n",
       "    </tr>\n",
       "  </thead>\n",
       "  <tbody>\n",
       "    <tr>\n",
       "      <th>0</th>\n",
       "      <td>651269</td>\n",
       "      <td>35.0</td>\n",
       "      <td>0</td>\n",
       "      <td>1</td>\n",
       "      <td>0.0</td>\n",
       "      <td>1.0</td>\n",
       "      <td>0.0</td>\n",
       "      <td>0.0</td>\n",
       "      <td>0.0</td>\n",
       "      <td>0.0</td>\n",
       "      <td>...</td>\n",
       "      <td>0.0</td>\n",
       "      <td>0.0</td>\n",
       "      <td>0.0</td>\n",
       "      <td>1.0</td>\n",
       "      <td>0.0</td>\n",
       "      <td>0.0</td>\n",
       "      <td>0.0</td>\n",
       "      <td>1.0</td>\n",
       "      <td>0.0</td>\n",
       "      <td>0.0</td>\n",
       "    </tr>\n",
       "    <tr>\n",
       "      <th>1</th>\n",
       "      <td>934043</td>\n",
       "      <td>22.0</td>\n",
       "      <td>1</td>\n",
       "      <td>31</td>\n",
       "      <td>0.0</td>\n",
       "      <td>0.0</td>\n",
       "      <td>1.0</td>\n",
       "      <td>0.0</td>\n",
       "      <td>0.0</td>\n",
       "      <td>0.0</td>\n",
       "      <td>...</td>\n",
       "      <td>0.0</td>\n",
       "      <td>0.0</td>\n",
       "      <td>0.0</td>\n",
       "      <td>1.0</td>\n",
       "      <td>0.0</td>\n",
       "      <td>0.0</td>\n",
       "      <td>0.0</td>\n",
       "      <td>0.0</td>\n",
       "      <td>1.0</td>\n",
       "      <td>0.0</td>\n",
       "    </tr>\n",
       "    <tr>\n",
       "      <th>2</th>\n",
       "      <td>220083</td>\n",
       "      <td>44.0</td>\n",
       "      <td>0</td>\n",
       "      <td>23</td>\n",
       "      <td>0.0</td>\n",
       "      <td>0.0</td>\n",
       "      <td>0.0</td>\n",
       "      <td>0.0</td>\n",
       "      <td>1.0</td>\n",
       "      <td>0.0</td>\n",
       "      <td>...</td>\n",
       "      <td>0.0</td>\n",
       "      <td>0.0</td>\n",
       "      <td>0.0</td>\n",
       "      <td>0.0</td>\n",
       "      <td>0.0</td>\n",
       "      <td>1.0</td>\n",
       "      <td>0.0</td>\n",
       "      <td>0.0</td>\n",
       "      <td>0.0</td>\n",
       "      <td>1.0</td>\n",
       "    </tr>\n",
       "    <tr>\n",
       "      <th>3</th>\n",
       "      <td>635001</td>\n",
       "      <td>29.0</td>\n",
       "      <td>0</td>\n",
       "      <td>29</td>\n",
       "      <td>0.0</td>\n",
       "      <td>0.0</td>\n",
       "      <td>0.0</td>\n",
       "      <td>0.0</td>\n",
       "      <td>0.0</td>\n",
       "      <td>0.0</td>\n",
       "      <td>...</td>\n",
       "      <td>0.0</td>\n",
       "      <td>1.0</td>\n",
       "      <td>0.0</td>\n",
       "      <td>0.0</td>\n",
       "      <td>0.0</td>\n",
       "      <td>0.0</td>\n",
       "      <td>0.0</td>\n",
       "      <td>1.0</td>\n",
       "      <td>0.0</td>\n",
       "      <td>0.0</td>\n",
       "    </tr>\n",
       "    <tr>\n",
       "      <th>4</th>\n",
       "      <td>764036</td>\n",
       "      <td>35.0</td>\n",
       "      <td>2</td>\n",
       "      <td>5</td>\n",
       "      <td>0.0</td>\n",
       "      <td>0.0</td>\n",
       "      <td>0.0</td>\n",
       "      <td>0.0</td>\n",
       "      <td>0.0</td>\n",
       "      <td>0.0</td>\n",
       "      <td>...</td>\n",
       "      <td>0.0</td>\n",
       "      <td>0.0</td>\n",
       "      <td>0.0</td>\n",
       "      <td>1.0</td>\n",
       "      <td>0.0</td>\n",
       "      <td>0.0</td>\n",
       "      <td>0.0</td>\n",
       "      <td>1.0</td>\n",
       "      <td>0.0</td>\n",
       "      <td>0.0</td>\n",
       "    </tr>\n",
       "  </tbody>\n",
       "</table>\n",
       "<p>5 rows × 89 columns</p>\n",
       "</div>"
      ],
      "text/plain": [
       "    index   Age  Lag_in_Report  Date of Occurance  AREA_1  AREA_2  AREA_3  \\\n",
       "0  651269  35.0              0                  1     0.0     1.0     0.0   \n",
       "1  934043  22.0              1                 31     0.0     0.0     1.0   \n",
       "2  220083  44.0              0                 23     0.0     0.0     0.0   \n",
       "3  635001  29.0              0                 29     0.0     0.0     0.0   \n",
       "4  764036  35.0              2                  5     0.0     0.0     0.0   \n",
       "\n",
       "   AREA_4  AREA_5  AREA_6  ...  WEAPON_BLUNT OBJECT  WEAPON_BODILY FORCE  \\\n",
       "0     0.0     0.0     0.0  ...                  0.0                  0.0   \n",
       "1     0.0     0.0     0.0  ...                  0.0                  0.0   \n",
       "2     0.0     1.0     0.0  ...                  0.0                  0.0   \n",
       "3     0.0     0.0     0.0  ...                  0.0                  1.0   \n",
       "4     0.0     0.0     0.0  ...                  0.0                  0.0   \n",
       "\n",
       "   WEAPON_FIREARM  WEAPON_NOT USED  WEAPON_OTHER  WEAPON_SHARP OBJECTS  \\\n",
       "0             0.0              1.0           0.0                   0.0   \n",
       "1             0.0              1.0           0.0                   0.0   \n",
       "2             0.0              0.0           0.0                   1.0   \n",
       "3             0.0              0.0           0.0                   0.0   \n",
       "4             0.0              1.0           0.0                   0.0   \n",
       "\n",
       "   WEAPON_UNKNOWN WEAPON  TIME CAT_Missing  TIME CAT_Morning  TIME CAT_Night  \n",
       "0                    0.0               1.0               0.0             0.0  \n",
       "1                    0.0               0.0               1.0             0.0  \n",
       "2                    0.0               0.0               0.0             1.0  \n",
       "3                    0.0               1.0               0.0             0.0  \n",
       "4                    0.0               1.0               0.0             0.0  \n",
       "\n",
       "[5 rows x 89 columns]"
      ]
     },
     "execution_count": 30,
     "metadata": {},
     "output_type": "execute_result"
    }
   ],
   "source": [
    "X_cat = x_test.drop(['Age','Lag_in_Report','Date of Occurance'],axis=1)\n",
    "X_num = x_test[['Age','Lag_in_Report','Date of Occurance']].reset_index()\n",
    "X_encoded = encoder.fit_transform(X_cat)\n",
    "# create the names for the one-hot encoded categorical features\n",
    "categorical_columns = [f'{col}_{cat}' for i, col in enumerate(X_cat) for cat in encoder.categories_[i]]\n",
    "# put the features into a dataframe and join with the original\n",
    "# numerical features\n",
    "one_hot_features = pd.DataFrame(X_encoded, columns=categorical_columns)\n",
    "X_test_enc = X_num.join(one_hot_features)\n",
    "X_test_enc.head()"
   ]
  },
  {
   "cell_type": "code",
   "execution_count": 31,
   "id": "8291a7bb",
   "metadata": {},
   "outputs": [
    {
     "data": {
      "text/plain": [
       "(283533, 88)"
      ]
     },
     "execution_count": 31,
     "metadata": {},
     "output_type": "execute_result"
    }
   ],
   "source": [
    "X_test_enc.drop(\"index\",axis=1,inplace = True)\n",
    "X_test_enc.shape"
   ]
  },
  {
   "cell_type": "code",
   "execution_count": 32,
   "id": "a35c0c66",
   "metadata": {},
   "outputs": [],
   "source": [
    "from sklearn.metrics import accuracy_score\n",
    "from sklearn.metrics import precision_score, recall_score\n",
    "from sklearn.metrics import f1_score"
   ]
  },
  {
   "cell_type": "markdown",
   "id": "09400091",
   "metadata": {},
   "source": [
    "#### DECISION TREE CLASSIFIER"
   ]
  },
  {
   "cell_type": "code",
   "execution_count": null,
   "id": "d601acb4",
   "metadata": {},
   "outputs": [],
   "source": [
    "from sklearn.tree import DecisionTreeClassifier\n",
    "dec_tree_clf = DecisionTreeClassifier(max_depth=50, min random_state=42)\n",
    "dec_tree_clf.fit(X_train_enc, y_train)"
   ]
  },
  {
   "cell_type": "code",
   "execution_count": 34,
   "id": "3cbe6e06",
   "metadata": {},
   "outputs": [],
   "source": [
    "y_train_predict = dec_tree_clf.predict(X_train_enc)"
   ]
  },
  {
   "cell_type": "code",
   "execution_count": 35,
   "id": "e63add1b",
   "metadata": {},
   "outputs": [
    {
     "name": "stdout",
     "output_type": "stream",
     "text": [
      "Decision Tree Accuracy:  0.9970509768355817\n",
      "Decision Tree Precision:  0.997048636914209\n",
      "Decision Tree Recall:  0.997048636914209\n",
      "Decision Tree F1 Score:  0.9970487457013125\n"
     ]
    }
   ],
   "source": [
    "dec_tree_accuracy = accuracy_score(y_train, y_train_predict)\n",
    "dec_tree_precision = precision_score(y_train, y_train_predict, average='weighted')\n",
    "dec_tree_recall = recall_score(y_train, y_train_predict, average='weighted')\n",
    "dec_tree_f1_score = f1_score(y_train, y_train_predict, average='weighted')\n",
    "\n",
    "\n",
    "print(\"Decision Tree Accuracy: \", dec_tree_accuracy)\n",
    "print(\"Decision Tree Precision: \", dec_tree_precision)\n",
    "print(\"Decision Tree Recall: \", dec_tree_precision)\n",
    "print(\"Decision Tree F1 Score: \", dec_tree_f1_score)"
   ]
  },
  {
   "cell_type": "code",
   "execution_count": 36,
   "id": "fe8a7768",
   "metadata": {},
   "outputs": [],
   "source": [
    "X_train_enc.to_pickle(\"X_train_enc.pkl\")\n",
    "x_test.to_pickle(\"x_test.pkl\")\n",
    "X_train_enc.to_pickle(\"y_train.pkl\")\n",
    "y_test.to_pickle(\"y_test.pkl\")"
   ]
  },
  {
   "cell_type": "raw",
   "id": "a37df314",
   "metadata": {},
   "source": [
    "X_train_enc = pd.read_pickle(\"X_train_enc.pkl\")\n",
    "x_test = pd.read_pickle(\"x_test.pkl\")\n",
    "y_train = pd.read_pickle(\"y_train.pkl\")\n",
    "y_test= pd.read_pickle(\"y_test.pkl\")"
   ]
  },
  {
   "cell_type": "markdown",
   "id": "c46189fa",
   "metadata": {},
   "source": [
    "## RANDOM FOREST CLASSIFIER"
   ]
  },
  {
   "cell_type": "code",
   "execution_count": 33,
   "id": "f6da71fd",
   "metadata": {},
   "outputs": [],
   "source": [
    "from sklearn.ensemble import RandomForestClassifier\n",
    "from sklearn.model_selection import train_test_split, GridSearchCV,RandomizedSearchCV"
   ]
  },
  {
   "cell_type": "code",
   "execution_count": 38,
   "id": "8364599b",
   "metadata": {},
   "outputs": [],
   "source": [
    "rf_classifier=RandomForestClassifier(n_estimators=150, max_depth = 30, min_samples_split = 10, random_state=42)"
   ]
  },
  {
   "cell_type": "code",
   "execution_count": 39,
   "id": "65d8ff3e",
   "metadata": {},
   "outputs": [
    {
     "data": {
      "text/html": [
       "<style>#sk-container-id-2 {color: black;}#sk-container-id-2 pre{padding: 0;}#sk-container-id-2 div.sk-toggleable {background-color: white;}#sk-container-id-2 label.sk-toggleable__label {cursor: pointer;display: block;width: 100%;margin-bottom: 0;padding: 0.3em;box-sizing: border-box;text-align: center;}#sk-container-id-2 label.sk-toggleable__label-arrow:before {content: \"▸\";float: left;margin-right: 0.25em;color: #696969;}#sk-container-id-2 label.sk-toggleable__label-arrow:hover:before {color: black;}#sk-container-id-2 div.sk-estimator:hover label.sk-toggleable__label-arrow:before {color: black;}#sk-container-id-2 div.sk-toggleable__content {max-height: 0;max-width: 0;overflow: hidden;text-align: left;background-color: #f0f8ff;}#sk-container-id-2 div.sk-toggleable__content pre {margin: 0.2em;color: black;border-radius: 0.25em;background-color: #f0f8ff;}#sk-container-id-2 input.sk-toggleable__control:checked~div.sk-toggleable__content {max-height: 200px;max-width: 100%;overflow: auto;}#sk-container-id-2 input.sk-toggleable__control:checked~label.sk-toggleable__label-arrow:before {content: \"▾\";}#sk-container-id-2 div.sk-estimator input.sk-toggleable__control:checked~label.sk-toggleable__label {background-color: #d4ebff;}#sk-container-id-2 div.sk-label input.sk-toggleable__control:checked~label.sk-toggleable__label {background-color: #d4ebff;}#sk-container-id-2 input.sk-hidden--visually {border: 0;clip: rect(1px 1px 1px 1px);clip: rect(1px, 1px, 1px, 1px);height: 1px;margin: -1px;overflow: hidden;padding: 0;position: absolute;width: 1px;}#sk-container-id-2 div.sk-estimator {font-family: monospace;background-color: #f0f8ff;border: 1px dotted black;border-radius: 0.25em;box-sizing: border-box;margin-bottom: 0.5em;}#sk-container-id-2 div.sk-estimator:hover {background-color: #d4ebff;}#sk-container-id-2 div.sk-parallel-item::after {content: \"\";width: 100%;border-bottom: 1px solid gray;flex-grow: 1;}#sk-container-id-2 div.sk-label:hover label.sk-toggleable__label {background-color: #d4ebff;}#sk-container-id-2 div.sk-serial::before {content: \"\";position: absolute;border-left: 1px solid gray;box-sizing: border-box;top: 0;bottom: 0;left: 50%;z-index: 0;}#sk-container-id-2 div.sk-serial {display: flex;flex-direction: column;align-items: center;background-color: white;padding-right: 0.2em;padding-left: 0.2em;position: relative;}#sk-container-id-2 div.sk-item {position: relative;z-index: 1;}#sk-container-id-2 div.sk-parallel {display: flex;align-items: stretch;justify-content: center;background-color: white;position: relative;}#sk-container-id-2 div.sk-item::before, #sk-container-id-2 div.sk-parallel-item::before {content: \"\";position: absolute;border-left: 1px solid gray;box-sizing: border-box;top: 0;bottom: 0;left: 50%;z-index: -1;}#sk-container-id-2 div.sk-parallel-item {display: flex;flex-direction: column;z-index: 1;position: relative;background-color: white;}#sk-container-id-2 div.sk-parallel-item:first-child::after {align-self: flex-end;width: 50%;}#sk-container-id-2 div.sk-parallel-item:last-child::after {align-self: flex-start;width: 50%;}#sk-container-id-2 div.sk-parallel-item:only-child::after {width: 0;}#sk-container-id-2 div.sk-dashed-wrapped {border: 1px dashed gray;margin: 0 0.4em 0.5em 0.4em;box-sizing: border-box;padding-bottom: 0.4em;background-color: white;}#sk-container-id-2 div.sk-label label {font-family: monospace;font-weight: bold;display: inline-block;line-height: 1.2em;}#sk-container-id-2 div.sk-label-container {text-align: center;}#sk-container-id-2 div.sk-container {/* jupyter's `normalize.less` sets `[hidden] { display: none; }` but bootstrap.min.css set `[hidden] { display: none !important; }` so we also need the `!important` here to be able to override the default hidden behavior on the sphinx rendered scikit-learn.org. See: https://github.com/scikit-learn/scikit-learn/issues/21755 */display: inline-block !important;position: relative;}#sk-container-id-2 div.sk-text-repr-fallback {display: none;}</style><div id=\"sk-container-id-2\" class=\"sk-top-container\"><div class=\"sk-text-repr-fallback\"><pre>RandomForestClassifier(max_depth=30, min_samples_split=10, n_estimators=150,\n",
       "                       random_state=42)</pre><b>In a Jupyter environment, please rerun this cell to show the HTML representation or trust the notebook. <br />On GitHub, the HTML representation is unable to render, please try loading this page with nbviewer.org.</b></div><div class=\"sk-container\" hidden><div class=\"sk-item\"><div class=\"sk-estimator sk-toggleable\"><input class=\"sk-toggleable__control sk-hidden--visually\" id=\"sk-estimator-id-2\" type=\"checkbox\" checked><label for=\"sk-estimator-id-2\" class=\"sk-toggleable__label sk-toggleable__label-arrow\">RandomForestClassifier</label><div class=\"sk-toggleable__content\"><pre>RandomForestClassifier(max_depth=30, min_samples_split=10, n_estimators=150,\n",
       "                       random_state=42)</pre></div></div></div></div></div>"
      ],
      "text/plain": [
       "RandomForestClassifier(max_depth=30, min_samples_split=10, n_estimators=150,\n",
       "                       random_state=42)"
      ]
     },
     "execution_count": 39,
     "metadata": {},
     "output_type": "execute_result"
    }
   ],
   "source": [
    "rf_classifier.fit(X_train_enc, y_train)"
   ]
  },
  {
   "cell_type": "code",
   "execution_count": 40,
   "id": "66818ff5",
   "metadata": {},
   "outputs": [
    {
     "name": "stdout",
     "output_type": "stream",
     "text": [
      "Random Forest Accuracy:  0.8851148851148851\n",
      "Random Forest Precision:  0.8854589342583855\n",
      "Random Forest Recall:  0.8854589342583855\n",
      "Random Forest F1 Score:  0.8851333389146765\n"
     ]
    }
   ],
   "source": [
    "y_pred_train = rf_classifier.predict(X_train_enc)\n",
    "rnd_accuracy = accuracy_score(y_train, y_pred_train)\n",
    "rnd_precision = precision_score(y_train, y_pred_train, average='weighted')\n",
    "rnd_recall = recall_score(y_train, y_pred_train, average='weighted')\n",
    "rnd_f1_score = f1_score(y_train, y_pred_train , average='weighted')\n",
    "\n",
    "\n",
    "print(\"Random Forest Accuracy: \", rnd_accuracy)\n",
    "print(\"Random Forest Precision: \", rnd_precision)\n",
    "print(\"Random Forest Recall: \", rnd_precision)\n",
    "print(\"Random Forest F1 Score: \", rnd_f1_score)"
   ]
  },
  {
   "cell_type": "code",
   "execution_count": 41,
   "id": "88d30e62",
   "metadata": {},
   "outputs": [
    {
     "name": "stdout",
     "output_type": "stream",
     "text": [
      "Random Forest Accuracy:  0.7898868914729502\n",
      "Random Forest Precision:  0.8244145023519529\n",
      "Random Forest Recall:  0.8244145023519529\n",
      "Random Forest F1 Score:  0.8017169289969835\n"
     ]
    }
   ],
   "source": [
    "y_pred= rf_classifier.predict(X_test_enc)\n",
    "rnd_accuracy = accuracy_score(y_test, y_pred)\n",
    "rnd_precision = precision_score(y_test, y_pred, average='weighted')\n",
    "rnd_recall = recall_score(y_test, y_pred, average='weighted')\n",
    "rnd_f1_score = f1_score(y_test, y_pred , average='weighted')\n",
    "\n",
    "\n",
    "print(\"Random Forest Accuracy: \", rnd_accuracy)\n",
    "print(\"Random Forest Precision: \", rnd_precision)\n",
    "print(\"Random Forest Recall: \", rnd_precision)\n",
    "print(\"Random Forest F1 Score: \", rnd_f1_score)"
   ]
  },
  {
   "cell_type": "code",
   "execution_count": null,
   "id": "d3b22921",
   "metadata": {},
   "outputs": [],
   "source": []
  },
  {
   "cell_type": "code",
   "execution_count": 43,
   "id": "2e23c6ba",
   "metadata": {},
   "outputs": [],
   "source": [
    "y_probabilities = rf_classifier.predict_proba(X_test_enc)\n",
    "\n",
    "# For binary classification, y_probabilities[:, 1] contains the probabilities for the positive class\n",
    "predicted_probabilities = y_probabilities[:, 1]\n"
   ]
  },
  {
   "cell_type": "code",
   "execution_count": 45,
   "id": "c30ef196",
   "metadata": {},
   "outputs": [
    {
     "data": {
      "text/plain": [
       "array([0.25510214, 0.091788  , 0.88640818, ..., 0.04930579, 0.15379415,\n",
       "       0.03044673])"
      ]
     },
     "execution_count": 45,
     "metadata": {},
     "output_type": "execute_result"
    }
   ],
   "source": [
    "predicted_probabilities"
   ]
  },
  {
   "cell_type": "code",
   "execution_count": 46,
   "id": "4de5cc9e",
   "metadata": {},
   "outputs": [],
   "source": [
    "from sklearn.metrics import confusion_matrix"
   ]
  },
  {
   "cell_type": "code",
   "execution_count": 49,
   "id": "53450a1d",
   "metadata": {},
   "outputs": [
    {
     "name": "stdout",
     "output_type": "stream",
     "text": [
      "[[183919  41466]\n",
      " [ 18108  40040]]\n"
     ]
    }
   ],
   "source": [
    "print(confusion_matrix(y_test, y_pred,labels=rf_classifier.classes_))"
   ]
  },
  {
   "cell_type": "code",
   "execution_count": 44,
   "id": "316e6f47",
   "metadata": {},
   "outputs": [],
   "source": [
    "import pickle"
   ]
  },
  {
   "cell_type": "code",
   "execution_count": 50,
   "id": "a7570104",
   "metadata": {},
   "outputs": [],
   "source": [
    "# Save the best Random Forest model to a file using pickle\n",
    "with open('best_rf_model.pkl_f1', 'wb') as model_file:\n",
    "    pickle.dump(rf_classifier, model_file)"
   ]
  },
  {
   "cell_type": "code",
   "execution_count": 63,
   "id": "feef4865",
   "metadata": {},
   "outputs": [
    {
     "data": {
      "text/html": [
       "<style>#sk-container-id-5 {color: black;}#sk-container-id-5 pre{padding: 0;}#sk-container-id-5 div.sk-toggleable {background-color: white;}#sk-container-id-5 label.sk-toggleable__label {cursor: pointer;display: block;width: 100%;margin-bottom: 0;padding: 0.3em;box-sizing: border-box;text-align: center;}#sk-container-id-5 label.sk-toggleable__label-arrow:before {content: \"▸\";float: left;margin-right: 0.25em;color: #696969;}#sk-container-id-5 label.sk-toggleable__label-arrow:hover:before {color: black;}#sk-container-id-5 div.sk-estimator:hover label.sk-toggleable__label-arrow:before {color: black;}#sk-container-id-5 div.sk-toggleable__content {max-height: 0;max-width: 0;overflow: hidden;text-align: left;background-color: #f0f8ff;}#sk-container-id-5 div.sk-toggleable__content pre {margin: 0.2em;color: black;border-radius: 0.25em;background-color: #f0f8ff;}#sk-container-id-5 input.sk-toggleable__control:checked~div.sk-toggleable__content {max-height: 200px;max-width: 100%;overflow: auto;}#sk-container-id-5 input.sk-toggleable__control:checked~label.sk-toggleable__label-arrow:before {content: \"▾\";}#sk-container-id-5 div.sk-estimator input.sk-toggleable__control:checked~label.sk-toggleable__label {background-color: #d4ebff;}#sk-container-id-5 div.sk-label input.sk-toggleable__control:checked~label.sk-toggleable__label {background-color: #d4ebff;}#sk-container-id-5 input.sk-hidden--visually {border: 0;clip: rect(1px 1px 1px 1px);clip: rect(1px, 1px, 1px, 1px);height: 1px;margin: -1px;overflow: hidden;padding: 0;position: absolute;width: 1px;}#sk-container-id-5 div.sk-estimator {font-family: monospace;background-color: #f0f8ff;border: 1px dotted black;border-radius: 0.25em;box-sizing: border-box;margin-bottom: 0.5em;}#sk-container-id-5 div.sk-estimator:hover {background-color: #d4ebff;}#sk-container-id-5 div.sk-parallel-item::after {content: \"\";width: 100%;border-bottom: 1px solid gray;flex-grow: 1;}#sk-container-id-5 div.sk-label:hover label.sk-toggleable__label {background-color: #d4ebff;}#sk-container-id-5 div.sk-serial::before {content: \"\";position: absolute;border-left: 1px solid gray;box-sizing: border-box;top: 0;bottom: 0;left: 50%;z-index: 0;}#sk-container-id-5 div.sk-serial {display: flex;flex-direction: column;align-items: center;background-color: white;padding-right: 0.2em;padding-left: 0.2em;position: relative;}#sk-container-id-5 div.sk-item {position: relative;z-index: 1;}#sk-container-id-5 div.sk-parallel {display: flex;align-items: stretch;justify-content: center;background-color: white;position: relative;}#sk-container-id-5 div.sk-item::before, #sk-container-id-5 div.sk-parallel-item::before {content: \"\";position: absolute;border-left: 1px solid gray;box-sizing: border-box;top: 0;bottom: 0;left: 50%;z-index: -1;}#sk-container-id-5 div.sk-parallel-item {display: flex;flex-direction: column;z-index: 1;position: relative;background-color: white;}#sk-container-id-5 div.sk-parallel-item:first-child::after {align-self: flex-end;width: 50%;}#sk-container-id-5 div.sk-parallel-item:last-child::after {align-self: flex-start;width: 50%;}#sk-container-id-5 div.sk-parallel-item:only-child::after {width: 0;}#sk-container-id-5 div.sk-dashed-wrapped {border: 1px dashed gray;margin: 0 0.4em 0.5em 0.4em;box-sizing: border-box;padding-bottom: 0.4em;background-color: white;}#sk-container-id-5 div.sk-label label {font-family: monospace;font-weight: bold;display: inline-block;line-height: 1.2em;}#sk-container-id-5 div.sk-label-container {text-align: center;}#sk-container-id-5 div.sk-container {/* jupyter's `normalize.less` sets `[hidden] { display: none; }` but bootstrap.min.css set `[hidden] { display: none !important; }` so we also need the `!important` here to be able to override the default hidden behavior on the sphinx rendered scikit-learn.org. See: https://github.com/scikit-learn/scikit-learn/issues/21755 */display: inline-block !important;position: relative;}#sk-container-id-5 div.sk-text-repr-fallback {display: none;}</style><div id=\"sk-container-id-5\" class=\"sk-top-container\"><div class=\"sk-text-repr-fallback\"><pre>RandomForestClassifier(min_samples_leaf=2, n_estimators=150, random_state=42)</pre><b>In a Jupyter environment, please rerun this cell to show the HTML representation or trust the notebook. <br />On GitHub, the HTML representation is unable to render, please try loading this page with nbviewer.org.</b></div><div class=\"sk-container\" hidden><div class=\"sk-item\"><div class=\"sk-estimator sk-toggleable\"><input class=\"sk-toggleable__control sk-hidden--visually\" id=\"sk-estimator-id-5\" type=\"checkbox\" checked><label for=\"sk-estimator-id-5\" class=\"sk-toggleable__label sk-toggleable__label-arrow\">RandomForestClassifier</label><div class=\"sk-toggleable__content\"><pre>RandomForestClassifier(min_samples_leaf=2, n_estimators=150, random_state=42)</pre></div></div></div></div></div>"
      ],
      "text/plain": [
       "RandomForestClassifier(min_samples_leaf=2, n_estimators=150, random_state=42)"
      ]
     },
     "execution_count": 63,
     "metadata": {},
     "output_type": "execute_result"
    }
   ],
   "source": [
    "best_rf_model"
   ]
  },
  {
   "cell_type": "code",
   "execution_count": 71,
   "id": "1b35754d",
   "metadata": {},
   "outputs": [
    {
     "name": "stdout",
     "output_type": "stream",
     "text": [
      "Feature Importances:\n",
      "Age: 0.0680\n",
      "Lag_in_Report: 0.0360\n",
      "Date of Occurance: 0.0785\n",
      "AREA_1: 0.0056\n",
      "AREA_2: 0.0039\n",
      "AREA_3: 0.0055\n",
      "AREA_4: 0.0034\n",
      "AREA_5: 0.0041\n",
      "AREA_6: 0.0055\n",
      "AREA_7: 0.0040\n",
      "AREA_8: 0.0038\n",
      "AREA_9: 0.0045\n",
      "AREA_10: 0.0049\n",
      "AREA_11: 0.0035\n",
      "AREA_12: 0.0043\n",
      "AREA_13: 0.0060\n",
      "AREA_14: 0.0046\n",
      "AREA_15: 0.0055\n",
      "AREA_16: 0.0034\n",
      "AREA_17: 0.0034\n",
      "AREA_18: 0.0076\n",
      "AREA_19: 0.0038\n",
      "AREA_20: 0.0039\n",
      "AREA_21: 0.0048\n",
      "Part 1-2_1: 0.0224\n",
      "Part 1-2_2: 0.0259\n",
      "Month of Occurance_1: 0.0067\n",
      "Month of Occurance_2: 0.0065\n",
      "Month of Occurance_3: 0.0068\n",
      "Month of Occurance_4: 0.0069\n",
      "Month of Occurance_5: 0.0078\n",
      "Month of Occurance_6: 0.0076\n",
      "Month of Occurance_7: 0.0076\n",
      "Month of Occurance_8: 0.0077\n",
      "Month of Occurance_9: 0.0072\n",
      "Month of Occurance_10: 0.0070\n",
      "Month of Occurance_11: 0.0068\n",
      "Month of Occurance_12: 0.0067\n",
      "GROUP_ASSULT: 0.0221\n",
      "GROUP_CRIMES AGAINST CHILDREN: 0.0047\n",
      "GROUP_FINANCIAL CRIME: 0.0001\n",
      "GROUP_GRAND THEFT: 0.0263\n",
      "GROUP_HOMICIDE: 0.0015\n",
      "GROUP_IDENTITY THEFT: 0.0414\n",
      "GROUP_KIDNAPPING: 0.0003\n",
      "GROUP_OTHERS: 0.0071\n",
      "GROUP_SERIOUS ASSULT: 0.0262\n",
      "GROUP_SEX OFFENDERS: 0.0029\n",
      "GROUP_THEFT: 0.0376\n",
      "GROUP_THREATS: 0.0163\n",
      "GROUP_TRESPASSING: 0.0028\n",
      "GROUP_VANDALISM: 0.0099\n",
      "GROUP_VIOLATION: 0.0320\n",
      "GROUP_WEAPON ASSULT: 0.0064\n",
      "PREMSE_BANK: 0.0017\n",
      "PREMSE_BUSINESS AREA: 0.0090\n",
      "PREMSE_DOMESTIC: 0.0324\n",
      "PREMSE_DOMESTIC TEMPORARY: 0.0012\n",
      "PREMSE_EDUCATIONAL AREA: 0.0015\n",
      "PREMSE_ENTERTAINMENT ZONE: 0.0018\n",
      "PREMSE_MEDICAL CENTERS: 0.0013\n",
      "PREMSE_OTHER: 0.0022\n",
      "PREMSE_PARKING/GARAGE: 0.0063\n",
      "PREMSE_PUBLIC PLACE: 0.0033\n",
      "PREMSE_ROADS: 0.0002\n",
      "PREMSE_STREET: 0.0138\n",
      "PREMSE_VEHICLE: 0.0037\n",
      "Gender_F: 0.0100\n",
      "Gender_M: 0.0070\n",
      "Gender_X: 0.0059\n",
      "Race_Asian: 0.0035\n",
      "Race_B: 0.0065\n",
      "Race_H: 0.0094\n",
      "Race_I: 0.0001\n",
      "Race_O: 0.0050\n",
      "Race_Other US: 0.0001\n",
      "Race_W: 0.0065\n",
      "Race_X: 0.0059\n",
      "WEAPON_BLUNT OBJECT: 0.0036\n",
      "WEAPON_BODILY FORCE: 0.0515\n",
      "WEAPON_FIREARM: 0.0065\n",
      "WEAPON_NOT USED: 0.1106\n",
      "WEAPON_OTHER: 0.0019\n",
      "WEAPON_SHARP OBJECTS: 0.0077\n",
      "WEAPON_UNKNOWN WEAPON: 0.0041\n",
      "TIME CAT_Missing: 0.0094\n",
      "TIME CAT_Morning: 0.0084\n",
      "TIME CAT_Night: 0.0082\n"
     ]
    }
   ],
   "source": [
    "print(\"Feature Importances:\")\n",
    "for feature, importance in zip(X_train_enc.columns, rf_classifier.feature_importances_):\n",
    "    print(f'{feature}: {importance:.4f}')"
   ]
  },
  {
   "cell_type": "code",
   "execution_count": 82,
   "id": "45bc60ed",
   "metadata": {},
   "outputs": [],
   "source": [
    "# Load the best Random Forest model from the pickle file\n",
    "with open('best_rf_model.pkl_f1', 'rb') as model_file:\n",
    "    loaded_rf_model = pickle.load(model_file)"
   ]
  },
  {
   "cell_type": "code",
   "execution_count": 83,
   "id": "d2e02e37",
   "metadata": {},
   "outputs": [
    {
     "data": {
      "text/html": [
       "<style>#sk-container-id-8 {color: black;}#sk-container-id-8 pre{padding: 0;}#sk-container-id-8 div.sk-toggleable {background-color: white;}#sk-container-id-8 label.sk-toggleable__label {cursor: pointer;display: block;width: 100%;margin-bottom: 0;padding: 0.3em;box-sizing: border-box;text-align: center;}#sk-container-id-8 label.sk-toggleable__label-arrow:before {content: \"▸\";float: left;margin-right: 0.25em;color: #696969;}#sk-container-id-8 label.sk-toggleable__label-arrow:hover:before {color: black;}#sk-container-id-8 div.sk-estimator:hover label.sk-toggleable__label-arrow:before {color: black;}#sk-container-id-8 div.sk-toggleable__content {max-height: 0;max-width: 0;overflow: hidden;text-align: left;background-color: #f0f8ff;}#sk-container-id-8 div.sk-toggleable__content pre {margin: 0.2em;color: black;border-radius: 0.25em;background-color: #f0f8ff;}#sk-container-id-8 input.sk-toggleable__control:checked~div.sk-toggleable__content {max-height: 200px;max-width: 100%;overflow: auto;}#sk-container-id-8 input.sk-toggleable__control:checked~label.sk-toggleable__label-arrow:before {content: \"▾\";}#sk-container-id-8 div.sk-estimator input.sk-toggleable__control:checked~label.sk-toggleable__label {background-color: #d4ebff;}#sk-container-id-8 div.sk-label input.sk-toggleable__control:checked~label.sk-toggleable__label {background-color: #d4ebff;}#sk-container-id-8 input.sk-hidden--visually {border: 0;clip: rect(1px 1px 1px 1px);clip: rect(1px, 1px, 1px, 1px);height: 1px;margin: -1px;overflow: hidden;padding: 0;position: absolute;width: 1px;}#sk-container-id-8 div.sk-estimator {font-family: monospace;background-color: #f0f8ff;border: 1px dotted black;border-radius: 0.25em;box-sizing: border-box;margin-bottom: 0.5em;}#sk-container-id-8 div.sk-estimator:hover {background-color: #d4ebff;}#sk-container-id-8 div.sk-parallel-item::after {content: \"\";width: 100%;border-bottom: 1px solid gray;flex-grow: 1;}#sk-container-id-8 div.sk-label:hover label.sk-toggleable__label {background-color: #d4ebff;}#sk-container-id-8 div.sk-serial::before {content: \"\";position: absolute;border-left: 1px solid gray;box-sizing: border-box;top: 0;bottom: 0;left: 50%;z-index: 0;}#sk-container-id-8 div.sk-serial {display: flex;flex-direction: column;align-items: center;background-color: white;padding-right: 0.2em;padding-left: 0.2em;position: relative;}#sk-container-id-8 div.sk-item {position: relative;z-index: 1;}#sk-container-id-8 div.sk-parallel {display: flex;align-items: stretch;justify-content: center;background-color: white;position: relative;}#sk-container-id-8 div.sk-item::before, #sk-container-id-8 div.sk-parallel-item::before {content: \"\";position: absolute;border-left: 1px solid gray;box-sizing: border-box;top: 0;bottom: 0;left: 50%;z-index: -1;}#sk-container-id-8 div.sk-parallel-item {display: flex;flex-direction: column;z-index: 1;position: relative;background-color: white;}#sk-container-id-8 div.sk-parallel-item:first-child::after {align-self: flex-end;width: 50%;}#sk-container-id-8 div.sk-parallel-item:last-child::after {align-self: flex-start;width: 50%;}#sk-container-id-8 div.sk-parallel-item:only-child::after {width: 0;}#sk-container-id-8 div.sk-dashed-wrapped {border: 1px dashed gray;margin: 0 0.4em 0.5em 0.4em;box-sizing: border-box;padding-bottom: 0.4em;background-color: white;}#sk-container-id-8 div.sk-label label {font-family: monospace;font-weight: bold;display: inline-block;line-height: 1.2em;}#sk-container-id-8 div.sk-label-container {text-align: center;}#sk-container-id-8 div.sk-container {/* jupyter's `normalize.less` sets `[hidden] { display: none; }` but bootstrap.min.css set `[hidden] { display: none !important; }` so we also need the `!important` here to be able to override the default hidden behavior on the sphinx rendered scikit-learn.org. See: https://github.com/scikit-learn/scikit-learn/issues/21755 */display: inline-block !important;position: relative;}#sk-container-id-8 div.sk-text-repr-fallback {display: none;}</style><div id=\"sk-container-id-8\" class=\"sk-top-container\"><div class=\"sk-text-repr-fallback\"><pre>RandomForestClassifier(max_depth=30, min_samples_split=10, n_estimators=150,\n",
       "                       random_state=42)</pre><b>In a Jupyter environment, please rerun this cell to show the HTML representation or trust the notebook. <br />On GitHub, the HTML representation is unable to render, please try loading this page with nbviewer.org.</b></div><div class=\"sk-container\" hidden><div class=\"sk-item\"><div class=\"sk-estimator sk-toggleable\"><input class=\"sk-toggleable__control sk-hidden--visually\" id=\"sk-estimator-id-8\" type=\"checkbox\" checked><label for=\"sk-estimator-id-8\" class=\"sk-toggleable__label sk-toggleable__label-arrow\">RandomForestClassifier</label><div class=\"sk-toggleable__content\"><pre>RandomForestClassifier(max_depth=30, min_samples_split=10, n_estimators=150,\n",
       "                       random_state=42)</pre></div></div></div></div></div>"
      ],
      "text/plain": [
       "RandomForestClassifier(max_depth=30, min_samples_split=10, n_estimators=150,\n",
       "                       random_state=42)"
      ]
     },
     "execution_count": 83,
     "metadata": {},
     "output_type": "execute_result"
    }
   ],
   "source": [
    "loaded_rf_model"
   ]
  },
  {
   "cell_type": "markdown",
   "id": "9bce7de6",
   "metadata": {},
   "source": [
    "## XGBoost"
   ]
  },
  {
   "cell_type": "code",
   "execution_count": 51,
   "id": "e6c30c93",
   "metadata": {},
   "outputs": [],
   "source": [
    "from xgboost import XGBClassifier"
   ]
  },
  {
   "cell_type": "code",
   "execution_count": 75,
   "id": "59cf4e97",
   "metadata": {},
   "outputs": [],
   "source": [
    "xgb_classifier = XGBClassifier(objective='binary:logistic', random_state=42)"
   ]
  },
  {
   "cell_type": "code",
   "execution_count": 73,
   "id": "879d9193",
   "metadata": {},
   "outputs": [],
   "source": [
    "xgb_classifier = XGBClassifier(\n",
    "    objective='binary:logistic',  # for binary classification\n",
    "    n_estimators=150,             # number of boosting rounds\n",
    "    learning_rate=0.1,            # step size shrinkage used in update to prevent overfitting\n",
    "    max_depth=15,                  # maximum depth of a tree\n",
    "    subsample=0.8,                # fraction of samples used for fitting the trees\n",
    "    colsample_bytree=0.8,         # fraction of features used for fitting the trees\n",
    "    random_state=42                # for reproducibility\n",
    ")"
   ]
  },
  {
   "cell_type": "code",
   "execution_count": 74,
   "id": "763dede2",
   "metadata": {},
   "outputs": [
    {
     "data": {
      "text/html": [
       "<style>#sk-container-id-7 {color: black;}#sk-container-id-7 pre{padding: 0;}#sk-container-id-7 div.sk-toggleable {background-color: white;}#sk-container-id-7 label.sk-toggleable__label {cursor: pointer;display: block;width: 100%;margin-bottom: 0;padding: 0.3em;box-sizing: border-box;text-align: center;}#sk-container-id-7 label.sk-toggleable__label-arrow:before {content: \"▸\";float: left;margin-right: 0.25em;color: #696969;}#sk-container-id-7 label.sk-toggleable__label-arrow:hover:before {color: black;}#sk-container-id-7 div.sk-estimator:hover label.sk-toggleable__label-arrow:before {color: black;}#sk-container-id-7 div.sk-toggleable__content {max-height: 0;max-width: 0;overflow: hidden;text-align: left;background-color: #f0f8ff;}#sk-container-id-7 div.sk-toggleable__content pre {margin: 0.2em;color: black;border-radius: 0.25em;background-color: #f0f8ff;}#sk-container-id-7 input.sk-toggleable__control:checked~div.sk-toggleable__content {max-height: 200px;max-width: 100%;overflow: auto;}#sk-container-id-7 input.sk-toggleable__control:checked~label.sk-toggleable__label-arrow:before {content: \"▾\";}#sk-container-id-7 div.sk-estimator input.sk-toggleable__control:checked~label.sk-toggleable__label {background-color: #d4ebff;}#sk-container-id-7 div.sk-label input.sk-toggleable__control:checked~label.sk-toggleable__label {background-color: #d4ebff;}#sk-container-id-7 input.sk-hidden--visually {border: 0;clip: rect(1px 1px 1px 1px);clip: rect(1px, 1px, 1px, 1px);height: 1px;margin: -1px;overflow: hidden;padding: 0;position: absolute;width: 1px;}#sk-container-id-7 div.sk-estimator {font-family: monospace;background-color: #f0f8ff;border: 1px dotted black;border-radius: 0.25em;box-sizing: border-box;margin-bottom: 0.5em;}#sk-container-id-7 div.sk-estimator:hover {background-color: #d4ebff;}#sk-container-id-7 div.sk-parallel-item::after {content: \"\";width: 100%;border-bottom: 1px solid gray;flex-grow: 1;}#sk-container-id-7 div.sk-label:hover label.sk-toggleable__label {background-color: #d4ebff;}#sk-container-id-7 div.sk-serial::before {content: \"\";position: absolute;border-left: 1px solid gray;box-sizing: border-box;top: 0;bottom: 0;left: 50%;z-index: 0;}#sk-container-id-7 div.sk-serial {display: flex;flex-direction: column;align-items: center;background-color: white;padding-right: 0.2em;padding-left: 0.2em;position: relative;}#sk-container-id-7 div.sk-item {position: relative;z-index: 1;}#sk-container-id-7 div.sk-parallel {display: flex;align-items: stretch;justify-content: center;background-color: white;position: relative;}#sk-container-id-7 div.sk-item::before, #sk-container-id-7 div.sk-parallel-item::before {content: \"\";position: absolute;border-left: 1px solid gray;box-sizing: border-box;top: 0;bottom: 0;left: 50%;z-index: -1;}#sk-container-id-7 div.sk-parallel-item {display: flex;flex-direction: column;z-index: 1;position: relative;background-color: white;}#sk-container-id-7 div.sk-parallel-item:first-child::after {align-self: flex-end;width: 50%;}#sk-container-id-7 div.sk-parallel-item:last-child::after {align-self: flex-start;width: 50%;}#sk-container-id-7 div.sk-parallel-item:only-child::after {width: 0;}#sk-container-id-7 div.sk-dashed-wrapped {border: 1px dashed gray;margin: 0 0.4em 0.5em 0.4em;box-sizing: border-box;padding-bottom: 0.4em;background-color: white;}#sk-container-id-7 div.sk-label label {font-family: monospace;font-weight: bold;display: inline-block;line-height: 1.2em;}#sk-container-id-7 div.sk-label-container {text-align: center;}#sk-container-id-7 div.sk-container {/* jupyter's `normalize.less` sets `[hidden] { display: none; }` but bootstrap.min.css set `[hidden] { display: none !important; }` so we also need the `!important` here to be able to override the default hidden behavior on the sphinx rendered scikit-learn.org. See: https://github.com/scikit-learn/scikit-learn/issues/21755 */display: inline-block !important;position: relative;}#sk-container-id-7 div.sk-text-repr-fallback {display: none;}</style><div id=\"sk-container-id-7\" class=\"sk-top-container\"><div class=\"sk-text-repr-fallback\"><pre>XGBClassifier(base_score=None, booster=None, callbacks=None,\n",
       "              colsample_bylevel=None, colsample_bynode=None,\n",
       "              colsample_bytree=0.8, device=None, early_stopping_rounds=None,\n",
       "              enable_categorical=False, eval_metric=None, feature_types=None,\n",
       "              gamma=None, grow_policy=None, importance_type=None,\n",
       "              interaction_constraints=None, learning_rate=0.1, max_bin=None,\n",
       "              max_cat_threshold=None, max_cat_to_onehot=None,\n",
       "              max_delta_step=None, max_depth=15, max_leaves=None,\n",
       "              min_child_weight=None, missing=nan, monotone_constraints=None,\n",
       "              multi_strategy=None, n_estimators=150, n_jobs=None,\n",
       "              num_parallel_tree=None, random_state=42, ...)</pre><b>In a Jupyter environment, please rerun this cell to show the HTML representation or trust the notebook. <br />On GitHub, the HTML representation is unable to render, please try loading this page with nbviewer.org.</b></div><div class=\"sk-container\" hidden><div class=\"sk-item\"><div class=\"sk-estimator sk-toggleable\"><input class=\"sk-toggleable__control sk-hidden--visually\" id=\"sk-estimator-id-7\" type=\"checkbox\" checked><label for=\"sk-estimator-id-7\" class=\"sk-toggleable__label sk-toggleable__label-arrow\">XGBClassifier</label><div class=\"sk-toggleable__content\"><pre>XGBClassifier(base_score=None, booster=None, callbacks=None,\n",
       "              colsample_bylevel=None, colsample_bynode=None,\n",
       "              colsample_bytree=0.8, device=None, early_stopping_rounds=None,\n",
       "              enable_categorical=False, eval_metric=None, feature_types=None,\n",
       "              gamma=None, grow_policy=None, importance_type=None,\n",
       "              interaction_constraints=None, learning_rate=0.1, max_bin=None,\n",
       "              max_cat_threshold=None, max_cat_to_onehot=None,\n",
       "              max_delta_step=None, max_depth=15, max_leaves=None,\n",
       "              min_child_weight=None, missing=nan, monotone_constraints=None,\n",
       "              multi_strategy=None, n_estimators=150, n_jobs=None,\n",
       "              num_parallel_tree=None, random_state=42, ...)</pre></div></div></div></div></div>"
      ],
      "text/plain": [
       "XGBClassifier(base_score=None, booster=None, callbacks=None,\n",
       "              colsample_bylevel=None, colsample_bynode=None,\n",
       "              colsample_bytree=0.8, device=None, early_stopping_rounds=None,\n",
       "              enable_categorical=False, eval_metric=None, feature_types=None,\n",
       "              gamma=None, grow_policy=None, importance_type=None,\n",
       "              interaction_constraints=None, learning_rate=0.1, max_bin=None,\n",
       "              max_cat_threshold=None, max_cat_to_onehot=None,\n",
       "              max_delta_step=None, max_depth=15, max_leaves=None,\n",
       "              min_child_weight=None, missing=nan, monotone_constraints=None,\n",
       "              multi_strategy=None, n_estimators=150, n_jobs=None,\n",
       "              num_parallel_tree=None, random_state=42, ...)"
      ]
     },
     "execution_count": 74,
     "metadata": {},
     "output_type": "execute_result"
    }
   ],
   "source": [
    "xgb_classifier.fit(X_train_enc,y_train)"
   ]
  },
  {
   "cell_type": "code",
   "execution_count": 75,
   "id": "a29f00c1",
   "metadata": {},
   "outputs": [
    {
     "name": "stdout",
     "output_type": "stream",
     "text": [
      "XGB Accuracy:  0.8771979240271923\n",
      "XGB Precision:  0.8776232419370271\n",
      "XGB Recall:  0.8776232419370271\n",
      "XGB F1 Score:  0.8772171004005495\n"
     ]
    }
   ],
   "source": [
    "# Make predictions on the test set using the best model\n",
    "y_pred_train = xgb_classifier.predict(X_train_enc)\n",
    "\n",
    "# Evaluate the model\n",
    "xg_accuracy = accuracy_score(y_train, y_pred_train)\n",
    "xg_precision = precision_score(y_train, y_pred_train, average='weighted')\n",
    "xg_recall = recall_score(y_train, y_pred_train, average='weighted')\n",
    "xg_f1_score = f1_score(y_train, y_pred_train , average='weighted')\n",
    "\n",
    "\n",
    "print(\"XGB Accuracy: \", xg_accuracy)\n",
    "print(\"XGB Precision: \", xg_precision)\n",
    "print(\"XGB Recall: \", xg_precision)\n",
    "print(\"XGB F1 Score: \", xg_f1_score)"
   ]
  },
  {
   "cell_type": "code",
   "execution_count": 76,
   "id": "ce0cae6e",
   "metadata": {},
   "outputs": [
    {
     "name": "stdout",
     "output_type": "stream",
     "text": [
      "XGB Accuracy:  0.787749574123647\n",
      "XGB Precision:  0.8229756379968365\n",
      "XGB Recall:  0.8229756379968365\n",
      "XGB F1 Score:  0.7998159209166036\n"
     ]
    }
   ],
   "source": [
    "y_pred = xgb_classifier.predict(X_test_enc)\n",
    "\n",
    "xg_accuracy = accuracy_score(y_test, y_pred)\n",
    "xg_precision = precision_score(y_test, y_pred, average='weighted')\n",
    "xg_recall = recall_score(y_test, y_pred, average='weighted')\n",
    "xg_f1_score = f1_score(y_test, y_pred, average='weighted')\n",
    "\n",
    "\n",
    "print(\"XGB Accuracy: \", xg_accuracy)\n",
    "print(\"XGB Precision: \", xg_precision)\n",
    "print(\"XGB Recall: \", xg_precision)\n",
    "print(\"XGB F1 Score: \", xg_f1_score)"
   ]
  },
  {
   "cell_type": "code",
   "execution_count": 77,
   "id": "dbdcc280",
   "metadata": {},
   "outputs": [
    {
     "name": "stdout",
     "output_type": "stream",
     "text": [
      "Feature Importances:\n",
      "Age: 0.0026\n",
      "Lag_in_Report: 0.0045\n",
      "Date of Occurance: 0.0025\n",
      "AREA_1: 0.0047\n",
      "AREA_2: 0.0037\n",
      "AREA_3: 0.0048\n",
      "AREA_4: 0.0043\n",
      "AREA_5: 0.0041\n",
      "AREA_6: 0.0052\n",
      "AREA_7: 0.0036\n",
      "AREA_8: 0.0039\n",
      "AREA_9: 0.0048\n",
      "AREA_10: 0.0057\n",
      "AREA_11: 0.0038\n",
      "AREA_12: 0.0037\n",
      "AREA_13: 0.0065\n",
      "AREA_14: 0.0043\n",
      "AREA_15: 0.0063\n",
      "AREA_16: 0.0040\n",
      "AREA_17: 0.0037\n",
      "AREA_18: 0.0084\n",
      "AREA_19: 0.0043\n",
      "AREA_20: 0.0037\n",
      "AREA_21: 0.0055\n",
      "Part 1-2_1: 0.0153\n",
      "Part 1-2_2: 0.0117\n",
      "Month of Occurance_1: 0.0027\n",
      "Month of Occurance_2: 0.0027\n",
      "Month of Occurance_3: 0.0027\n",
      "Month of Occurance_4: 0.0028\n",
      "Month of Occurance_5: 0.0027\n",
      "Month of Occurance_6: 0.0026\n",
      "Month of Occurance_7: 0.0026\n",
      "Month of Occurance_8: 0.0026\n",
      "Month of Occurance_9: 0.0027\n",
      "Month of Occurance_10: 0.0027\n",
      "Month of Occurance_11: 0.0028\n",
      "Month of Occurance_12: 0.0027\n",
      "GROUP_ASSULT: 0.0039\n",
      "GROUP_CRIMES AGAINST CHILDREN: 0.0140\n",
      "GROUP_FINANCIAL CRIME: 0.0038\n",
      "GROUP_GRAND THEFT: 0.0194\n",
      "GROUP_HOMICIDE: 0.0170\n",
      "GROUP_IDENTITY THEFT: 0.3501\n",
      "GROUP_KIDNAPPING: 0.0043\n",
      "GROUP_OTHERS: 0.0102\n",
      "GROUP_SERIOUS ASSULT: 0.0063\n",
      "GROUP_SEX OFFENDERS: 0.0053\n",
      "GROUP_THEFT: 0.0109\n",
      "GROUP_THREATS: 0.0572\n",
      "GROUP_TRESPASSING: 0.0079\n",
      "GROUP_VANDALISM: 0.0053\n",
      "GROUP_VIOLATION: 0.0722\n",
      "GROUP_WEAPON ASSULT: 0.0098\n",
      "PREMSE_BANK: 0.0060\n",
      "PREMSE_BUSINESS AREA: 0.0055\n",
      "PREMSE_DOMESTIC: 0.0133\n",
      "PREMSE_DOMESTIC TEMPORARY: 0.0038\n",
      "PREMSE_EDUCATIONAL AREA: 0.0036\n",
      "PREMSE_ENTERTAINMENT ZONE: 0.0037\n",
      "PREMSE_MEDICAL CENTERS: 0.0050\n",
      "PREMSE_OTHER: 0.0032\n",
      "PREMSE_PARKING/GARAGE: 0.0040\n",
      "PREMSE_PUBLIC PLACE: 0.0052\n",
      "PREMSE_ROADS: 0.0039\n",
      "PREMSE_STREET: 0.0054\n",
      "PREMSE_VEHICLE: 0.0060\n",
      "Gender_F: 0.0027\n",
      "Gender_M: 0.0026\n",
      "Gender_X: 0.0050\n",
      "Race_Asian: 0.0040\n",
      "Race_B: 0.0025\n",
      "Race_H: 0.0024\n",
      "Race_I: 0.0033\n",
      "Race_O: 0.0026\n",
      "Race_Other US: 0.0036\n",
      "Race_W: 0.0025\n",
      "Race_X: 0.0072\n",
      "WEAPON_BLUNT OBJECT: 0.0031\n",
      "WEAPON_BODILY FORCE: 0.0046\n",
      "WEAPON_FIREARM: 0.0053\n",
      "WEAPON_NOT USED: 0.0939\n",
      "WEAPON_OTHER: 0.0032\n",
      "WEAPON_SHARP OBJECTS: 0.0039\n",
      "WEAPON_UNKNOWN WEAPON: 0.0055\n",
      "TIME CAT_Missing: 0.0023\n",
      "TIME CAT_Morning: 0.0024\n",
      "TIME CAT_Night: 0.0029\n"
     ]
    }
   ],
   "source": [
    "print(\"Feature Importances:\")\n",
    "for feature, importance in zip(X_train_enc.columns, xgb_classifier.feature_importances_):\n",
    "    print(f'{feature}: {importance:.4f}')"
   ]
  },
  {
   "cell_type": "code",
   "execution_count": 78,
   "id": "224ccb61",
   "metadata": {},
   "outputs": [],
   "source": [
    "# Save the best Random Forest model to a file using pickle\n",
    "with open('best_xgb_model.pkl_f1', 'wb') as model_file:\n",
    "    pickle.dump(xgb_classifier, model_file)"
   ]
  },
  {
   "cell_type": "code",
   "execution_count": 120,
   "id": "d642ec71",
   "metadata": {},
   "outputs": [],
   "source": [
    "with open('best_xgb_model.pkl_f1', 'rb') as model_file:\n",
    "    loaded_xgb_model = pickle.load(model_file)"
   ]
  },
  {
   "cell_type": "code",
   "execution_count": 133,
   "id": "0a9b032f",
   "metadata": {},
   "outputs": [
    {
     "data": {
      "text/html": [
       "<div>\n",
       "<style scoped>\n",
       "    .dataframe tbody tr th:only-of-type {\n",
       "        vertical-align: middle;\n",
       "    }\n",
       "\n",
       "    .dataframe tbody tr th {\n",
       "        vertical-align: top;\n",
       "    }\n",
       "\n",
       "    .dataframe thead th {\n",
       "        text-align: right;\n",
       "    }\n",
       "</style>\n",
       "<table border=\"1\" class=\"dataframe\">\n",
       "  <thead>\n",
       "    <tr style=\"text-align: right;\">\n",
       "      <th></th>\n",
       "      <th>Age</th>\n",
       "      <th>Lag_in_Report</th>\n",
       "      <th>Date of Occurance</th>\n",
       "      <th>AREA_1</th>\n",
       "      <th>AREA_2</th>\n",
       "      <th>AREA_3</th>\n",
       "      <th>AREA_4</th>\n",
       "      <th>AREA_5</th>\n",
       "      <th>AREA_6</th>\n",
       "      <th>AREA_7</th>\n",
       "      <th>...</th>\n",
       "      <th>WEAPON_BLUNT OBJECT</th>\n",
       "      <th>WEAPON_BODILY FORCE</th>\n",
       "      <th>WEAPON_FIREARM</th>\n",
       "      <th>WEAPON_NOT USED</th>\n",
       "      <th>WEAPON_OTHER</th>\n",
       "      <th>WEAPON_SHARP OBJECTS</th>\n",
       "      <th>WEAPON_UNKNOWN WEAPON</th>\n",
       "      <th>TIME CAT_Missing</th>\n",
       "      <th>TIME CAT_Morning</th>\n",
       "      <th>TIME CAT_Night</th>\n",
       "    </tr>\n",
       "  </thead>\n",
       "  <tbody>\n",
       "    <tr>\n",
       "      <th>1</th>\n",
       "      <td>22.0</td>\n",
       "      <td>1</td>\n",
       "      <td>31</td>\n",
       "      <td>0.0</td>\n",
       "      <td>0.0</td>\n",
       "      <td>1.0</td>\n",
       "      <td>0.0</td>\n",
       "      <td>0.0</td>\n",
       "      <td>0.0</td>\n",
       "      <td>0.0</td>\n",
       "      <td>...</td>\n",
       "      <td>0.0</td>\n",
       "      <td>0.0</td>\n",
       "      <td>0.0</td>\n",
       "      <td>1.0</td>\n",
       "      <td>0.0</td>\n",
       "      <td>0.0</td>\n",
       "      <td>0.0</td>\n",
       "      <td>0.0</td>\n",
       "      <td>1.0</td>\n",
       "      <td>0.0</td>\n",
       "    </tr>\n",
       "  </tbody>\n",
       "</table>\n",
       "<p>1 rows × 88 columns</p>\n",
       "</div>"
      ],
      "text/plain": [
       "    Age  Lag_in_Report  Date of Occurance  AREA_1  AREA_2  AREA_3  AREA_4  \\\n",
       "1  22.0              1                 31     0.0     0.0     1.0     0.0   \n",
       "\n",
       "   AREA_5  AREA_6  AREA_7  ...  WEAPON_BLUNT OBJECT  WEAPON_BODILY FORCE  \\\n",
       "1     0.0     0.0     0.0  ...                  0.0                  0.0   \n",
       "\n",
       "   WEAPON_FIREARM  WEAPON_NOT USED  WEAPON_OTHER  WEAPON_SHARP OBJECTS  \\\n",
       "1             0.0              1.0           0.0                   0.0   \n",
       "\n",
       "   WEAPON_UNKNOWN WEAPON  TIME CAT_Missing  TIME CAT_Morning  TIME CAT_Night  \n",
       "1                    0.0               0.0               1.0             0.0  \n",
       "\n",
       "[1 rows x 88 columns]"
      ]
     },
     "execution_count": 133,
     "metadata": {},
     "output_type": "execute_result"
    }
   ],
   "source": [
    "X_test_enc.iloc[[1]]"
   ]
  },
  {
   "cell_type": "code",
   "execution_count": 134,
   "id": "39da90cb",
   "metadata": {},
   "outputs": [],
   "source": [
    "y_pred2 = loaded_xgb_model.predict(X_test_enc.iloc[[1]])"
   ]
  },
  {
   "cell_type": "code",
   "execution_count": 150,
   "id": "159e333f",
   "metadata": {},
   "outputs": [],
   "source": [
    "y_prob =loaded_xgb_model.predict_proba(X_test_enc.iloc[[1]])\n",
    "\n",
    "# For binary classification, y_probabilities[:, 1] contains the probabilities for the positive class\n",
    "predicted_probabilities = y_prob[:, 1][0]*100"
   ]
  },
  {
   "cell_type": "code",
   "execution_count": 151,
   "id": "bfa91392",
   "metadata": {},
   "outputs": [
    {
     "data": {
      "text/plain": [
       "2.7935940772295"
      ]
     },
     "execution_count": 151,
     "metadata": {},
     "output_type": "execute_result"
    }
   ],
   "source": [
    "predicted_probabilities"
   ]
  },
  {
   "cell_type": "code",
   "execution_count": 143,
   "id": "ac6f9aa8",
   "metadata": {},
   "outputs": [
    {
     "data": {
      "text/plain": [
       "(1,)"
      ]
     },
     "execution_count": 143,
     "metadata": {},
     "output_type": "execute_result"
    }
   ],
   "source": [
    "y_pred2.shape"
   ]
  },
  {
   "cell_type": "code",
   "execution_count": 140,
   "id": "4e4f01a2",
   "metadata": {},
   "outputs": [
    {
     "data": {
      "text/plain": [
       "0"
      ]
     },
     "execution_count": 140,
     "metadata": {},
     "output_type": "execute_result"
    }
   ],
   "source": [
    "y_pred2[0]"
   ]
  },
  {
   "cell_type": "code",
   "execution_count": 65,
   "id": "b1badf39",
   "metadata": {},
   "outputs": [
    {
     "name": "stderr",
     "output_type": "stream",
     "text": [
      "C:\\Users\\USER\\anaconda3\\Lib\\site-packages\\sklearn\\model_selection\\_validation.py:425: FitFailedWarning: \n",
      "1 fits failed out of a total of 30.\n",
      "The score on these train-test partitions for these parameters will be set to nan.\n",
      "If these failures are not expected, you can try to debug them by setting error_score='raise'.\n",
      "\n",
      "Below are more details about the failures:\n",
      "--------------------------------------------------------------------------------\n",
      "1 fits failed with the following error:\n",
      "Traceback (most recent call last):\n",
      "  File \"C:\\Users\\USER\\anaconda3\\Lib\\site-packages\\sklearn\\model_selection\\_validation.py\", line 732, in _fit_and_score\n",
      "    estimator.fit(X_train, y_train, **fit_params)\n",
      "  File \"C:\\Users\\USER\\anaconda3\\Lib\\site-packages\\xgboost\\core.py\", line 729, in inner_f\n",
      "    return func(**kwargs)\n",
      "           ^^^^^^^^^^^^^^\n",
      "  File \"C:\\Users\\USER\\anaconda3\\Lib\\site-packages\\xgboost\\sklearn.py\", line 1515, in fit\n",
      "    self._Booster = train(\n",
      "                    ^^^^^^\n",
      "  File \"C:\\Users\\USER\\anaconda3\\Lib\\site-packages\\xgboost\\core.py\", line 729, in inner_f\n",
      "    return func(**kwargs)\n",
      "           ^^^^^^^^^^^^^^\n",
      "  File \"C:\\Users\\USER\\anaconda3\\Lib\\site-packages\\xgboost\\training.py\", line 181, in train\n",
      "    bst.update(dtrain, i, obj)\n",
      "  File \"C:\\Users\\USER\\anaconda3\\Lib\\site-packages\\xgboost\\core.py\", line 2049, in update\n",
      "    _check_call(\n",
      "  File \"C:\\Users\\USER\\anaconda3\\Lib\\site-packages\\xgboost\\core.py\", line 281, in _check_call\n",
      "    raise XGBoostError(py_str(_LIB.XGBGetLastError()))\n",
      "xgboost.core.XGBoostError: [12:36:29] C:\\buildkite-agent\\builds\\buildkite-windows-cpu-autoscaling-group-i-0750514818a16474a-1\\xgboost\\xgboost-ci-windows\\src\\common\\io.h:232: bad_malloc: Failed to allocate 235500288 bytes.\n",
      "\n",
      "  warnings.warn(some_fits_failed_message, FitFailedWarning)\n",
      "C:\\Users\\USER\\anaconda3\\Lib\\site-packages\\sklearn\\model_selection\\_search.py:976: UserWarning: One or more of the test scores are non-finite: [-0.33877815 -0.42343413 -0.3039014  -0.31241203 -0.3165313  -0.28861541\n",
      " -0.26439525 -0.28696856 -0.27844036         nan]\n",
      "  warnings.warn(\n"
     ]
    },
    {
     "name": "stdout",
     "output_type": "stream",
     "text": [
      "Best Hyperparameters: {'subsample': 0.9, 'reg_lambda': 0.1, 'reg_alpha': 0.5, 'n_estimators': 200, 'max_depth': 30, 'learning_rate': 0.1, 'gamma': 0.2, 'colsample_bytree': 1.0}\n"
     ]
    },
    {
     "data": {
      "text/html": [
       "<style>#sk-container-id-6 {color: black;}#sk-container-id-6 pre{padding: 0;}#sk-container-id-6 div.sk-toggleable {background-color: white;}#sk-container-id-6 label.sk-toggleable__label {cursor: pointer;display: block;width: 100%;margin-bottom: 0;padding: 0.3em;box-sizing: border-box;text-align: center;}#sk-container-id-6 label.sk-toggleable__label-arrow:before {content: \"▸\";float: left;margin-right: 0.25em;color: #696969;}#sk-container-id-6 label.sk-toggleable__label-arrow:hover:before {color: black;}#sk-container-id-6 div.sk-estimator:hover label.sk-toggleable__label-arrow:before {color: black;}#sk-container-id-6 div.sk-toggleable__content {max-height: 0;max-width: 0;overflow: hidden;text-align: left;background-color: #f0f8ff;}#sk-container-id-6 div.sk-toggleable__content pre {margin: 0.2em;color: black;border-radius: 0.25em;background-color: #f0f8ff;}#sk-container-id-6 input.sk-toggleable__control:checked~div.sk-toggleable__content {max-height: 200px;max-width: 100%;overflow: auto;}#sk-container-id-6 input.sk-toggleable__control:checked~label.sk-toggleable__label-arrow:before {content: \"▾\";}#sk-container-id-6 div.sk-estimator input.sk-toggleable__control:checked~label.sk-toggleable__label {background-color: #d4ebff;}#sk-container-id-6 div.sk-label input.sk-toggleable__control:checked~label.sk-toggleable__label {background-color: #d4ebff;}#sk-container-id-6 input.sk-hidden--visually {border: 0;clip: rect(1px 1px 1px 1px);clip: rect(1px, 1px, 1px, 1px);height: 1px;margin: -1px;overflow: hidden;padding: 0;position: absolute;width: 1px;}#sk-container-id-6 div.sk-estimator {font-family: monospace;background-color: #f0f8ff;border: 1px dotted black;border-radius: 0.25em;box-sizing: border-box;margin-bottom: 0.5em;}#sk-container-id-6 div.sk-estimator:hover {background-color: #d4ebff;}#sk-container-id-6 div.sk-parallel-item::after {content: \"\";width: 100%;border-bottom: 1px solid gray;flex-grow: 1;}#sk-container-id-6 div.sk-label:hover label.sk-toggleable__label {background-color: #d4ebff;}#sk-container-id-6 div.sk-serial::before {content: \"\";position: absolute;border-left: 1px solid gray;box-sizing: border-box;top: 0;bottom: 0;left: 50%;z-index: 0;}#sk-container-id-6 div.sk-serial {display: flex;flex-direction: column;align-items: center;background-color: white;padding-right: 0.2em;padding-left: 0.2em;position: relative;}#sk-container-id-6 div.sk-item {position: relative;z-index: 1;}#sk-container-id-6 div.sk-parallel {display: flex;align-items: stretch;justify-content: center;background-color: white;position: relative;}#sk-container-id-6 div.sk-item::before, #sk-container-id-6 div.sk-parallel-item::before {content: \"\";position: absolute;border-left: 1px solid gray;box-sizing: border-box;top: 0;bottom: 0;left: 50%;z-index: -1;}#sk-container-id-6 div.sk-parallel-item {display: flex;flex-direction: column;z-index: 1;position: relative;background-color: white;}#sk-container-id-6 div.sk-parallel-item:first-child::after {align-self: flex-end;width: 50%;}#sk-container-id-6 div.sk-parallel-item:last-child::after {align-self: flex-start;width: 50%;}#sk-container-id-6 div.sk-parallel-item:only-child::after {width: 0;}#sk-container-id-6 div.sk-dashed-wrapped {border: 1px dashed gray;margin: 0 0.4em 0.5em 0.4em;box-sizing: border-box;padding-bottom: 0.4em;background-color: white;}#sk-container-id-6 div.sk-label label {font-family: monospace;font-weight: bold;display: inline-block;line-height: 1.2em;}#sk-container-id-6 div.sk-label-container {text-align: center;}#sk-container-id-6 div.sk-container {/* jupyter's `normalize.less` sets `[hidden] { display: none; }` but bootstrap.min.css set `[hidden] { display: none !important; }` so we also need the `!important` here to be able to override the default hidden behavior on the sphinx rendered scikit-learn.org. See: https://github.com/scikit-learn/scikit-learn/issues/21755 */display: inline-block !important;position: relative;}#sk-container-id-6 div.sk-text-repr-fallback {display: none;}</style><div id=\"sk-container-id-6\" class=\"sk-top-container\"><div class=\"sk-text-repr-fallback\"><pre>XGBClassifier(base_score=None, booster=None, callbacks=None,\n",
       "              colsample_bylevel=None, colsample_bynode=None,\n",
       "              colsample_bytree=1.0, device=None, early_stopping_rounds=None,\n",
       "              enable_categorical=False, eval_metric=None, feature_types=None,\n",
       "              gamma=0.2, grow_policy=None, importance_type=None,\n",
       "              interaction_constraints=None, learning_rate=0.1, max_bin=None,\n",
       "              max_cat_threshold=None, max_cat_to_onehot=None,\n",
       "              max_delta_step=None, max_depth=30, max_leaves=None,\n",
       "              min_child_weight=None, missing=nan, monotone_constraints=None,\n",
       "              multi_strategy=None, n_estimators=200, n_jobs=None,\n",
       "              num_parallel_tree=None, random_state=42, ...)</pre><b>In a Jupyter environment, please rerun this cell to show the HTML representation or trust the notebook. <br />On GitHub, the HTML representation is unable to render, please try loading this page with nbviewer.org.</b></div><div class=\"sk-container\" hidden><div class=\"sk-item\"><div class=\"sk-estimator sk-toggleable\"><input class=\"sk-toggleable__control sk-hidden--visually\" id=\"sk-estimator-id-6\" type=\"checkbox\" checked><label for=\"sk-estimator-id-6\" class=\"sk-toggleable__label sk-toggleable__label-arrow\">XGBClassifier</label><div class=\"sk-toggleable__content\"><pre>XGBClassifier(base_score=None, booster=None, callbacks=None,\n",
       "              colsample_bylevel=None, colsample_bynode=None,\n",
       "              colsample_bytree=1.0, device=None, early_stopping_rounds=None,\n",
       "              enable_categorical=False, eval_metric=None, feature_types=None,\n",
       "              gamma=0.2, grow_policy=None, importance_type=None,\n",
       "              interaction_constraints=None, learning_rate=0.1, max_bin=None,\n",
       "              max_cat_threshold=None, max_cat_to_onehot=None,\n",
       "              max_delta_step=None, max_depth=30, max_leaves=None,\n",
       "              min_child_weight=None, missing=nan, monotone_constraints=None,\n",
       "              multi_strategy=None, n_estimators=200, n_jobs=None,\n",
       "              num_parallel_tree=None, random_state=42, ...)</pre></div></div></div></div></div>"
      ],
      "text/plain": [
       "XGBClassifier(base_score=None, booster=None, callbacks=None,\n",
       "              colsample_bylevel=None, colsample_bynode=None,\n",
       "              colsample_bytree=1.0, device=None, early_stopping_rounds=None,\n",
       "              enable_categorical=False, eval_metric=None, feature_types=None,\n",
       "              gamma=0.2, grow_policy=None, importance_type=None,\n",
       "              interaction_constraints=None, learning_rate=0.1, max_bin=None,\n",
       "              max_cat_threshold=None, max_cat_to_onehot=None,\n",
       "              max_delta_step=None, max_depth=30, max_leaves=None,\n",
       "              min_child_weight=None, missing=nan, monotone_constraints=None,\n",
       "              multi_strategy=None, n_estimators=200, n_jobs=None,\n",
       "              num_parallel_tree=None, random_state=42, ...)"
      ]
     },
     "execution_count": 65,
     "metadata": {},
     "output_type": "execute_result"
    }
   ],
   "source": [
    "# Create an XGBoost classifier\n",
    "xgb_classifier2 = XGBClassifier(objective='binary:logistic', random_state=42)\n",
    "\n",
    "# Define the hyperparameter distributions for RandomizedSearchCV\n",
    "param_dist = {\n",
    "    'n_estimators': [100, 150, 200],\n",
    "    'learning_rate': [0.05, 0.5, 0.1],\n",
    "    'max_depth': [10,30,50],\n",
    "    #'min_child_weight': [1, 3, 5, 7],\n",
    "    'subsample': [0.8, 0.9, 1.0],\n",
    "    'colsample_bytree': [0.5, 0.8,1.0],\n",
    "    'gamma': [0, 0.2, 0.4],\n",
    "    'reg_alpha': [0.1, 0.5, 1.0],\n",
    "    'reg_lambda': [0.1, 0.5, 1.0]\n",
    "}\n",
    "\n",
    "# Create a RandomizedSearchCV object\n",
    "randomized_search = RandomizedSearchCV(\n",
    "    estimator=xgb_classifier2,\n",
    "    param_distributions=param_dist,\n",
    "    n_iter=10,  # Number of parameter settings that are sampled\n",
    "    cv=3,      # Number of cross-validation folds\n",
    "    scoring='neg_log_loss',\n",
    "    random_state=42,\n",
    "    n_jobs=-1  # Use all available CPU cores\n",
    ")\n",
    "\n",
    "# Perform the randomized search on the training data\n",
    "randomized_search.fit(X_train_enc, y_train)\n",
    "\n",
    "# Print the best hyperparameters\n",
    "print(\"Best Hyperparameters:\", randomized_search.best_params_)\n",
    "\n",
    "# Get the best model from the randomized search\n",
    "best_xgb_model = randomized_search.best_estimator_\n",
    "best_xgb_model"
   ]
  },
  {
   "cell_type": "code",
   "execution_count": 79,
   "id": "eb0f0726",
   "metadata": {},
   "outputs": [
    {
     "name": "stdout",
     "output_type": "stream",
     "text": [
      "XGB Accuracy:  0.9892137131161521\n",
      "XGB Precision:  0.9879288424422539\n",
      "XGB Recall:  0.9879288424422539\n",
      "XGB F1 Score:  0.9889443762368524\n"
     ]
    }
   ],
   "source": [
    "# Make predictions on the test set using the best model\n",
    "y_pred_train = best_xgb_model.predict(X_train_enc)\n",
    "\n",
    "# Evaluate the model\n",
    "xg_accuracy = accuracy_score(y_train, y_pred_train)\n",
    "xg_precision = precision_score(y_train, y_pred_train)\n",
    "xg_recall = recall_score(y_train, y_pred_train)\n",
    "xg_f1_score = f1_score(y_train, y_pred_train)\n",
    "\n",
    "\n",
    "print(\"XGB Accuracy: \", xg_accuracy)\n",
    "print(\"XGB Precision: \", xg_precision)\n",
    "print(\"XGB Recall: \", xg_precision)\n",
    "print(\"XGB F1 Score: \", xg_f1_score)"
   ]
  },
  {
   "cell_type": "code",
   "execution_count": 81,
   "id": "1b356a8e",
   "metadata": {},
   "outputs": [
    {
     "name": "stdout",
     "output_type": "stream",
     "text": [
      "XGB Accuracy:  0.8063082604141317\n",
      "XGB Precision:  0.5282441413081497\n",
      "XGB Recall:  0.5282441413081497\n",
      "XGB F1 Score:  0.5238103496115426\n"
     ]
    }
   ],
   "source": [
    "y_pred = best_xgb_model.predict(X_test_enc)\n",
    "\n",
    "xg_accuracy = accuracy_score(y_test, y_pred)\n",
    "xg_precision = precision_score(y_test, y_pred)\n",
    "xg_recall = recall_score(y_test, y_pred)\n",
    "xg_f1_score = f1_score(y_test, y_pred)\n",
    "\n",
    "\n",
    "print(\"XGB Accuracy: \", xg_accuracy)\n",
    "print(\"XGB Precision: \", xg_precision)\n",
    "print(\"XGB Recall: \", xg_precision)\n",
    "print(\"XGB F1 Score: \", xg_f1_score)"
   ]
  },
  {
   "cell_type": "code",
   "execution_count": null,
   "id": "a5cd0e75",
   "metadata": {},
   "outputs": [],
   "source": [
    "with open('best_xgb_model.pkl', 'wb') as model_file:\n",
    "    pickle.dump(best_xgb_model, model_file)"
   ]
  },
  {
   "cell_type": "code",
   "execution_count": 79,
   "id": "b3d639c7",
   "metadata": {},
   "outputs": [
    {
     "data": {
      "text/plain": [
       "(661575, 1)"
      ]
     },
     "execution_count": 79,
     "metadata": {},
     "output_type": "execute_result"
    }
   ],
   "source": [
    "y_train.shape"
   ]
  },
  {
   "cell_type": "code",
   "execution_count": 82,
   "id": "a1705683",
   "metadata": {},
   "outputs": [
    {
     "data": {
      "text/plain": [
       "(661575,)"
      ]
     },
     "execution_count": 82,
     "metadata": {},
     "output_type": "execute_result"
    }
   ],
   "source": [
    "y_pred_train.shape"
   ]
  },
  {
   "cell_type": "code",
   "execution_count": 48,
   "id": "9a544c44",
   "metadata": {},
   "outputs": [
    {
     "name": "stderr",
     "output_type": "stream",
     "text": [
      "C:\\Users\\USER\\anaconda3\\Lib\\site-packages\\sklearn\\base.py:1151: DataConversionWarning: A column-vector y was passed when a 1d array was expected. Please change the shape of y to (n_samples,), for example using ravel().\n",
      "  return fit_method(estimator, *args, **kwargs)\n"
     ]
    },
    {
     "data": {
      "text/html": [
       "<style>#sk-container-id-4 {color: black;}#sk-container-id-4 pre{padding: 0;}#sk-container-id-4 div.sk-toggleable {background-color: white;}#sk-container-id-4 label.sk-toggleable__label {cursor: pointer;display: block;width: 100%;margin-bottom: 0;padding: 0.3em;box-sizing: border-box;text-align: center;}#sk-container-id-4 label.sk-toggleable__label-arrow:before {content: \"▸\";float: left;margin-right: 0.25em;color: #696969;}#sk-container-id-4 label.sk-toggleable__label-arrow:hover:before {color: black;}#sk-container-id-4 div.sk-estimator:hover label.sk-toggleable__label-arrow:before {color: black;}#sk-container-id-4 div.sk-toggleable__content {max-height: 0;max-width: 0;overflow: hidden;text-align: left;background-color: #f0f8ff;}#sk-container-id-4 div.sk-toggleable__content pre {margin: 0.2em;color: black;border-radius: 0.25em;background-color: #f0f8ff;}#sk-container-id-4 input.sk-toggleable__control:checked~div.sk-toggleable__content {max-height: 200px;max-width: 100%;overflow: auto;}#sk-container-id-4 input.sk-toggleable__control:checked~label.sk-toggleable__label-arrow:before {content: \"▾\";}#sk-container-id-4 div.sk-estimator input.sk-toggleable__control:checked~label.sk-toggleable__label {background-color: #d4ebff;}#sk-container-id-4 div.sk-label input.sk-toggleable__control:checked~label.sk-toggleable__label {background-color: #d4ebff;}#sk-container-id-4 input.sk-hidden--visually {border: 0;clip: rect(1px 1px 1px 1px);clip: rect(1px, 1px, 1px, 1px);height: 1px;margin: -1px;overflow: hidden;padding: 0;position: absolute;width: 1px;}#sk-container-id-4 div.sk-estimator {font-family: monospace;background-color: #f0f8ff;border: 1px dotted black;border-radius: 0.25em;box-sizing: border-box;margin-bottom: 0.5em;}#sk-container-id-4 div.sk-estimator:hover {background-color: #d4ebff;}#sk-container-id-4 div.sk-parallel-item::after {content: \"\";width: 100%;border-bottom: 1px solid gray;flex-grow: 1;}#sk-container-id-4 div.sk-label:hover label.sk-toggleable__label {background-color: #d4ebff;}#sk-container-id-4 div.sk-serial::before {content: \"\";position: absolute;border-left: 1px solid gray;box-sizing: border-box;top: 0;bottom: 0;left: 50%;z-index: 0;}#sk-container-id-4 div.sk-serial {display: flex;flex-direction: column;align-items: center;background-color: white;padding-right: 0.2em;padding-left: 0.2em;position: relative;}#sk-container-id-4 div.sk-item {position: relative;z-index: 1;}#sk-container-id-4 div.sk-parallel {display: flex;align-items: stretch;justify-content: center;background-color: white;position: relative;}#sk-container-id-4 div.sk-item::before, #sk-container-id-4 div.sk-parallel-item::before {content: \"\";position: absolute;border-left: 1px solid gray;box-sizing: border-box;top: 0;bottom: 0;left: 50%;z-index: -1;}#sk-container-id-4 div.sk-parallel-item {display: flex;flex-direction: column;z-index: 1;position: relative;background-color: white;}#sk-container-id-4 div.sk-parallel-item:first-child::after {align-self: flex-end;width: 50%;}#sk-container-id-4 div.sk-parallel-item:last-child::after {align-self: flex-start;width: 50%;}#sk-container-id-4 div.sk-parallel-item:only-child::after {width: 0;}#sk-container-id-4 div.sk-dashed-wrapped {border: 1px dashed gray;margin: 0 0.4em 0.5em 0.4em;box-sizing: border-box;padding-bottom: 0.4em;background-color: white;}#sk-container-id-4 div.sk-label label {font-family: monospace;font-weight: bold;display: inline-block;line-height: 1.2em;}#sk-container-id-4 div.sk-label-container {text-align: center;}#sk-container-id-4 div.sk-container {/* jupyter's `normalize.less` sets `[hidden] { display: none; }` but bootstrap.min.css set `[hidden] { display: none !important; }` so we also need the `!important` here to be able to override the default hidden behavior on the sphinx rendered scikit-learn.org. See: https://github.com/scikit-learn/scikit-learn/issues/21755 */display: inline-block !important;position: relative;}#sk-container-id-4 div.sk-text-repr-fallback {display: none;}</style><div id=\"sk-container-id-4\" class=\"sk-top-container\"><div class=\"sk-text-repr-fallback\"><pre>RandomForestClassifier(max_depth=50, min_samples_split=100, n_estimators=50,\n",
       "                       n_jobs=-1, random_state=42)</pre><b>In a Jupyter environment, please rerun this cell to show the HTML representation or trust the notebook. <br />On GitHub, the HTML representation is unable to render, please try loading this page with nbviewer.org.</b></div><div class=\"sk-container\" hidden><div class=\"sk-item\"><div class=\"sk-estimator sk-toggleable\"><input class=\"sk-toggleable__control sk-hidden--visually\" id=\"sk-estimator-id-4\" type=\"checkbox\" checked><label for=\"sk-estimator-id-4\" class=\"sk-toggleable__label sk-toggleable__label-arrow\">RandomForestClassifier</label><div class=\"sk-toggleable__content\"><pre>RandomForestClassifier(max_depth=50, min_samples_split=100, n_estimators=50,\n",
       "                       n_jobs=-1, random_state=42)</pre></div></div></div></div></div>"
      ],
      "text/plain": [
       "RandomForestClassifier(max_depth=50, min_samples_split=100, n_estimators=50,\n",
       "                       n_jobs=-1, random_state=42)"
      ]
     },
     "execution_count": 48,
     "metadata": {},
     "output_type": "execute_result"
    }
   ],
   "source": [
    "rnd_clf.fit(X_train_enc, y_train)"
   ]
  },
  {
   "cell_type": "code",
   "execution_count": 45,
   "id": "d6b01456",
   "metadata": {},
   "outputs": [],
   "source": [
    "rf_classifier = RandomForestClassifier(\n",
    "    n_estimators=100,      # Number of trees in the forest\n",
    "    max_depth=None,         # Maximum depth of the tree (None means unlimited)\n",
    "    min_samples_split=2,    # Minimum number of samples required to split an internal node\n",
    "    min_samples_leaf=1,     # Minimum number of samples required to be at a leaf node,    # Number of features to consider when looking for the best split\n",
    "    random_state=42,        # Seed for reproducibility\n",
    "    oob_score=True          # Whether to use out-of-bag samples to estimate the generalization error\n",
    ")"
   ]
  },
  {
   "cell_type": "code",
   "execution_count": 49,
   "id": "9c23812c",
   "metadata": {},
   "outputs": [],
   "source": [
    "y_train_predict = rnd_clf.predict(X_train_enc)"
   ]
  },
  {
   "cell_type": "code",
   "execution_count": 50,
   "id": "4971d0fc",
   "metadata": {},
   "outputs": [
    {
     "name": "stdout",
     "output_type": "stream",
     "text": [
      "Random Forest Accuracy:  0.8487699807278086\n",
      "Random Forest Precision:  0.8370282898280259\n",
      "Random Forest Recall:  0.8370282898280259\n",
      "Random Forest F1 Score:  0.8316079931041348\n"
     ]
    }
   ],
   "source": [
    "rnd_accuracy = accuracy_score(y_train, y_train_predict)\n",
    "rnd_precision = precision_score(y_train, y_train_predict, average='weighted')\n",
    "rnd_recall = recall_score(y_train, y_train_predict, average='weighted')\n",
    "rnd_f1_score = f1_score(y_train, y_train_predict, average='weighted')\n",
    "\n",
    "\n",
    "print(\"Random Forest Accuracy: \", rnd_accuracy)\n",
    "print(\"Random Forest Precision: \", rnd_precision)\n",
    "print(\"Random Forest Recall: \", rnd_precision)\n",
    "print(\"Random Forest F1 Score: \", rnd_f1_score)"
   ]
  },
  {
   "cell_type": "code",
   "execution_count": 46,
   "id": "0a3fa101",
   "metadata": {},
   "outputs": [
    {
     "name": "stderr",
     "output_type": "stream",
     "text": [
      "C:\\Users\\USER\\anaconda3\\Lib\\site-packages\\sklearn\\base.py:1151: DataConversionWarning: A column-vector y was passed when a 1d array was expected. Please change the shape of y to (n_samples,), for example using ravel().\n",
      "  return fit_method(estimator, *args, **kwargs)\n"
     ]
    },
    {
     "data": {
      "text/html": [
       "<style>#sk-container-id-3 {color: black;}#sk-container-id-3 pre{padding: 0;}#sk-container-id-3 div.sk-toggleable {background-color: white;}#sk-container-id-3 label.sk-toggleable__label {cursor: pointer;display: block;width: 100%;margin-bottom: 0;padding: 0.3em;box-sizing: border-box;text-align: center;}#sk-container-id-3 label.sk-toggleable__label-arrow:before {content: \"▸\";float: left;margin-right: 0.25em;color: #696969;}#sk-container-id-3 label.sk-toggleable__label-arrow:hover:before {color: black;}#sk-container-id-3 div.sk-estimator:hover label.sk-toggleable__label-arrow:before {color: black;}#sk-container-id-3 div.sk-toggleable__content {max-height: 0;max-width: 0;overflow: hidden;text-align: left;background-color: #f0f8ff;}#sk-container-id-3 div.sk-toggleable__content pre {margin: 0.2em;color: black;border-radius: 0.25em;background-color: #f0f8ff;}#sk-container-id-3 input.sk-toggleable__control:checked~div.sk-toggleable__content {max-height: 200px;max-width: 100%;overflow: auto;}#sk-container-id-3 input.sk-toggleable__control:checked~label.sk-toggleable__label-arrow:before {content: \"▾\";}#sk-container-id-3 div.sk-estimator input.sk-toggleable__control:checked~label.sk-toggleable__label {background-color: #d4ebff;}#sk-container-id-3 div.sk-label input.sk-toggleable__control:checked~label.sk-toggleable__label {background-color: #d4ebff;}#sk-container-id-3 input.sk-hidden--visually {border: 0;clip: rect(1px 1px 1px 1px);clip: rect(1px, 1px, 1px, 1px);height: 1px;margin: -1px;overflow: hidden;padding: 0;position: absolute;width: 1px;}#sk-container-id-3 div.sk-estimator {font-family: monospace;background-color: #f0f8ff;border: 1px dotted black;border-radius: 0.25em;box-sizing: border-box;margin-bottom: 0.5em;}#sk-container-id-3 div.sk-estimator:hover {background-color: #d4ebff;}#sk-container-id-3 div.sk-parallel-item::after {content: \"\";width: 100%;border-bottom: 1px solid gray;flex-grow: 1;}#sk-container-id-3 div.sk-label:hover label.sk-toggleable__label {background-color: #d4ebff;}#sk-container-id-3 div.sk-serial::before {content: \"\";position: absolute;border-left: 1px solid gray;box-sizing: border-box;top: 0;bottom: 0;left: 50%;z-index: 0;}#sk-container-id-3 div.sk-serial {display: flex;flex-direction: column;align-items: center;background-color: white;padding-right: 0.2em;padding-left: 0.2em;position: relative;}#sk-container-id-3 div.sk-item {position: relative;z-index: 1;}#sk-container-id-3 div.sk-parallel {display: flex;align-items: stretch;justify-content: center;background-color: white;position: relative;}#sk-container-id-3 div.sk-item::before, #sk-container-id-3 div.sk-parallel-item::before {content: \"\";position: absolute;border-left: 1px solid gray;box-sizing: border-box;top: 0;bottom: 0;left: 50%;z-index: -1;}#sk-container-id-3 div.sk-parallel-item {display: flex;flex-direction: column;z-index: 1;position: relative;background-color: white;}#sk-container-id-3 div.sk-parallel-item:first-child::after {align-self: flex-end;width: 50%;}#sk-container-id-3 div.sk-parallel-item:last-child::after {align-self: flex-start;width: 50%;}#sk-container-id-3 div.sk-parallel-item:only-child::after {width: 0;}#sk-container-id-3 div.sk-dashed-wrapped {border: 1px dashed gray;margin: 0 0.4em 0.5em 0.4em;box-sizing: border-box;padding-bottom: 0.4em;background-color: white;}#sk-container-id-3 div.sk-label label {font-family: monospace;font-weight: bold;display: inline-block;line-height: 1.2em;}#sk-container-id-3 div.sk-label-container {text-align: center;}#sk-container-id-3 div.sk-container {/* jupyter's `normalize.less` sets `[hidden] { display: none; }` but bootstrap.min.css set `[hidden] { display: none !important; }` so we also need the `!important` here to be able to override the default hidden behavior on the sphinx rendered scikit-learn.org. See: https://github.com/scikit-learn/scikit-learn/issues/21755 */display: inline-block !important;position: relative;}#sk-container-id-3 div.sk-text-repr-fallback {display: none;}</style><div id=\"sk-container-id-3\" class=\"sk-top-container\"><div class=\"sk-text-repr-fallback\"><pre>RandomForestClassifier(oob_score=True, random_state=42)</pre><b>In a Jupyter environment, please rerun this cell to show the HTML representation or trust the notebook. <br />On GitHub, the HTML representation is unable to render, please try loading this page with nbviewer.org.</b></div><div class=\"sk-container\" hidden><div class=\"sk-item\"><div class=\"sk-estimator sk-toggleable\"><input class=\"sk-toggleable__control sk-hidden--visually\" id=\"sk-estimator-id-3\" type=\"checkbox\" checked><label for=\"sk-estimator-id-3\" class=\"sk-toggleable__label sk-toggleable__label-arrow\">RandomForestClassifier</label><div class=\"sk-toggleable__content\"><pre>RandomForestClassifier(oob_score=True, random_state=42)</pre></div></div></div></div></div>"
      ],
      "text/plain": [
       "RandomForestClassifier(oob_score=True, random_state=42)"
      ]
     },
     "execution_count": 46,
     "metadata": {},
     "output_type": "execute_result"
    }
   ],
   "source": [
    "rf_classifier.fit(X_train_enc, y_train)"
   ]
  },
  {
   "cell_type": "code",
   "execution_count": 47,
   "id": "92819590",
   "metadata": {},
   "outputs": [
    {
     "name": "stdout",
     "output_type": "stream",
     "text": [
      "Random Forest Accuracy:  0.9999591883006462\n",
      "Random Forest Precision:  0.9999591903953363\n",
      "Random Forest Recall:  0.9999591903953363\n",
      "Random Forest F1 Score:  0.9999591867918246\n"
     ]
    }
   ],
   "source": [
    "y_train_predict = rf_classifier.predict(X_train_enc)\n",
    "rnd_accuracy = accuracy_score(y_train, y_train_predict)\n",
    "rnd_precision = precision_score(y_train, y_train_predict, average='weighted')\n",
    "rnd_recall = recall_score(y_train, y_train_predict, average='weighted')\n",
    "rnd_f1_score = f1_score(y_train, y_train_predict, average='weighted')\n",
    "\n",
    "\n",
    "print(\"Random Forest Accuracy: \", rnd_accuracy)\n",
    "print(\"Random Forest Precision: \", rnd_precision)\n",
    "print(\"Random Forest Recall: \", rnd_precision)\n",
    "print(\"Random Forest F1 Score: \", rnd_f1_score)"
   ]
  },
  {
   "cell_type": "code",
   "execution_count": null,
   "id": "f2da10d1",
   "metadata": {},
   "outputs": [],
   "source": []
  }
 ],
 "metadata": {
  "kernelspec": {
   "display_name": "Python 3 (ipykernel)",
   "language": "python",
   "name": "python3"
  },
  "language_info": {
   "codemirror_mode": {
    "name": "ipython",
    "version": 3
   },
   "file_extension": ".py",
   "mimetype": "text/x-python",
   "name": "python",
   "nbconvert_exporter": "python",
   "pygments_lexer": "ipython3",
   "version": "3.11.5"
  }
 },
 "nbformat": 4,
 "nbformat_minor": 5
}
